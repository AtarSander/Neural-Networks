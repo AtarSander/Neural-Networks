{
 "cells": [
  {
   "cell_type": "code",
   "execution_count": 1,
   "id": "d9e1065b",
   "metadata": {},
   "outputs": [],
   "source": [
    "from torch.utils.data import DataLoader\n",
    "from sklearn.model_selection import train_test_split\n",
    "from utils import *\n",
    "from model import *\n",
    "import pickle\n",
    "import matplotlib.pyplot as plt\n",
    "import numpy as np\n",
    "import pandas as pd"
   ]
  },
  {
   "cell_type": "code",
   "execution_count": 2,
   "id": "8ff92e3c",
   "metadata": {},
   "outputs": [
    {
     "data": {
      "text/plain": [
       "2939"
      ]
     },
     "execution_count": 2,
     "metadata": {},
     "output_type": "execute_result"
    }
   ],
   "source": [
    "with open(\"data/train.pkl\", \"rb\") as f:\n",
    "    train_data = pickle.load(f)\n",
    "len(train_data)"
   ]
  },
  {
   "cell_type": "code",
   "execution_count": 3,
   "id": "6478c43d",
   "metadata": {},
   "outputs": [
    {
     "data": {
      "image/png": "[encoded data removed]",
      "text/plain": [
       "<Figure size 640x480 with 1 Axes>"
      ]
     },
     "metadata": {},
     "output_type": "display_data"
    }
   ],
   "source": [
    "histogram = histogram(train_data)\n",
    "plt.bar(histogram.keys(), histogram.values())\n",
    "plt.xlabel(\"Label\")\n",
    "plt.ylabel(\"Count\")\n",
    "plt.title(\"Histogram of Labels in Training Data\")\n",
    "plt.tight_layout()\n",
    "plt.show()"
   ]
  },
  {
   "cell_type": "code",
   "execution_count": 4,
   "id": "7cf6f898",
   "metadata": {},
   "outputs": [
    {
     "data": {
      "text/html": [
       "<div>\n",
       "<style scoped>\n",
       "    .dataframe tbody tr th:only-of-type {\n",
       "        vertical-align: middle;\n",
       "    }\n",
       "\n",
       "    .dataframe tbody tr th {\n",
       "        vertical-align: top;\n",
       "    }\n",
       "\n",
       "    .dataframe thead th {\n",
       "        text-align: right;\n",
       "    }\n",
       "</style>\n",
       "<table border=\"1\" class=\"dataframe\">\n",
       "  <thead>\n",
       "    <tr style=\"text-align: right;\">\n",
       "      <th></th>\n",
       "      <th>Dataset length</th>\n",
       "      <th>Min sequence length</th>\n",
       "      <th>Max sequence length</th>\n",
       "      <th>Mean sequence length</th>\n",
       "      <th>Unique lengths:</th>\n",
       "    </tr>\n",
       "  </thead>\n",
       "  <tbody>\n",
       "    <tr>\n",
       "      <th>0</th>\n",
       "      <td>2939</td>\n",
       "      <td>4</td>\n",
       "      <td>6308</td>\n",
       "      <td>861.128205</td>\n",
       "      <td>819</td>\n",
       "    </tr>\n",
       "  </tbody>\n",
       "</table>\n",
       "</div>"
      ],
      "text/plain": [
       "   Dataset length  Min sequence length  Max sequence length  \\\n",
       "0            2939                    4                 6308   \n",
       "\n",
       "   Mean sequence length  Unique lengths:  \n",
       "0            861.128205              819  "
      ]
     },
     "execution_count": 4,
     "metadata": {},
     "output_type": "execute_result"
    }
   ],
   "source": [
    "lengths = len_histogram(train_data)\n",
    "df = pd.DataFrame([{\n",
    "    \"Dataset length\": len(train_data),\n",
    "    \"Min sequence length\": min(lengths.keys()),\n",
    "    \"Max sequence length\": max(lengths.keys()),\n",
    "    \"Mean sequence length\": np.mean(list(lengths.keys())),\n",
    "    \"Unique lengths:\": len(list(lengths.keys()))\n",
    "}])\n",
    "df"
   ]
  },
  {
   "cell_type": "code",
   "execution_count": 5,
   "id": "848c4227",
   "metadata": {},
   "outputs": [],
   "source": [
    "train_data, val_data = train_test_split(train_data, test_size=0.15, random_state=42)"
   ]
  },
  {
   "cell_type": "markdown",
   "id": "f0b5e5c7",
   "metadata": {},
   "source": [
    "We split the dataset into 85% training set and 15% validation set."
   ]
  },
  {
   "cell_type": "code",
   "execution_count": 6,
   "id": "155d137f",
   "metadata": {},
   "outputs": [],
   "source": [
    "batch_size = 64\n",
    "train_dataset = SequenceDataset(train_data)\n",
    "val_dataset = SequenceDataset(val_data)\n",
    "train_loader = DataLoader(train_dataset, batch_size=batch_size, shuffle=True, collate_fn=collate_fn)\n",
    "val_loader = DataLoader(val_dataset, batch_size=batch_size, shuffle=False, collate_fn=collate_fn)"
   ]
  },
  {
   "cell_type": "code",
   "execution_count": 7,
   "id": "751da5a6",
   "metadata": {},
   "outputs": [
    {
     "name": "stdout",
     "output_type": "stream",
     "text": [
      "cuda\n"
     ]
    }
   ],
   "source": [
    "device = torch.device(\"cuda\" if torch.cuda.is_available() else \"cpu\")\n",
    "print(device)"
   ]
  },
  {
   "cell_type": "markdown",
   "id": "7bfb406d",
   "metadata": {},
   "source": [
    "## Training\n",
    "We trained a total of eight sequence classification models, evenly split between two recurrent architectures:\n",
    "- 4 LSTM-based classifiers\n",
    "- 4 GRU-based classifiers\n",
    "\n",
    "All models use a hidden size of 128. Training was performed with the following settings:\n",
    "- Batch size: 64\n",
    "- Learning rate: 3e-4\n",
    "- Maximum epochs: 100\n",
    "- Early stopping: Triggered if validation accuracy does not improve for 10 consecutive epochs (patience=10)"
   ]
  },
  {
   "cell_type": "code",
   "execution_count": 8,
   "id": "d123cf1b",
   "metadata": {},
   "outputs": [],
   "source": [
    "models = [\n",
    "    LSTMClassifier(input_size=1, hidden_size=128, output_size=len(histogram), num_layers=1),\n",
    "    LSTMClassifier(input_size=1, hidden_size=128, output_size=len(histogram), num_layers=2),\n",
    "    LSTMClassifier(input_size=1, hidden_size=128, output_size=len(histogram), num_layers=1, bidirectional=True),\n",
    "    LSTMClassifier(input_size=1, hidden_size=128, output_size=len(histogram), num_layers=2, bidirectional=True),\n",
    "    GRUClassifier(input_size=1, hidden_size=128, output_size=len(histogram), num_layers=1),\n",
    "    GRUClassifier(input_size=1, hidden_size=128, output_size=len(histogram), num_layers=2),\n",
    "    GRUClassifier(input_size=1, hidden_size=128, output_size=len(histogram), num_layers=1, bidirectional=True),\n",
    "    GRUClassifier(input_size=1, hidden_size=128, output_size=len(histogram), num_layers=2, bidirectional=True),\n",
    "]"
   ]
  },
  {
   "cell_type": "code",
   "execution_count": 9,
   "id": "5930d8eb",
   "metadata": {},
   "outputs": [
    {
     "name": "stdout",
     "output_type": "stream",
     "text": [
      "------------------------------ Training model 0 ------------------------------\n"
     ]
    },
    {
     "name": "stderr",
     "output_type": "stream",
     "text": [
      "/home/atarsander/University/Neural-Networks/lab5/utils.py:27: UserWarning: To copy construct from a tensor, it is recommended to use sourceTensor.detach().clone() or sourceTensor.detach().clone().requires_grad_(True), rather than torch.tensor(sourceTensor).\n",
      "  sequences = [torch.tensor(seq).unsqueeze(-1).float() for seq in sequences]\n"
     ]
    },
    {
     "name": "stdout",
     "output_type": "stream",
     "text": [
      "Epoch 5: Loss = 1.1745 | Train accuracy = 55.36% | Val accuracy = 56.01%\n",
      "Epoch 10: Loss = 1.0502 | Train accuracy = 61.77% | Val accuracy = 65.31%\n",
      "Epoch 15: Loss = 1.0045 | Train accuracy = 62.29% | Val accuracy = 65.99%\n",
      "Epoch 20: Loss = 0.9346 | Train accuracy = 64.37% | Val accuracy = 67.12%\n",
      "Epoch 25: Loss = 0.8844 | Train accuracy = 67.33% | Val accuracy = 68.71%\n",
      "Epoch 30: Loss = 0.8167 | Train accuracy = 70.30% | Val accuracy = 71.88%\n",
      "Epoch 35: Loss = 0.8150 | Train accuracy = 69.22% | Val accuracy = 71.88%\n",
      "Epoch 40: Loss = 0.7640 | Train accuracy = 72.06% | Val accuracy = 72.56%\n",
      "Epoch 45: Loss = 0.7935 | Train accuracy = 71.38% | Val accuracy = 72.79%\n",
      "Epoch 50: Loss = 0.6999 | Train accuracy = 73.86% | Val accuracy = 72.79%\n",
      "Epoch 55: Loss = 0.6616 | Train accuracy = 75.78% | Val accuracy = 72.34%\n",
      "Epoch 60: Loss = 0.6628 | Train accuracy = 76.42% | Val accuracy = 74.15%\n",
      "Epoch 65: Loss = 0.6033 | Train accuracy = 78.98% | Val accuracy = 73.02%\n",
      "Early stopping triggered\n",
      "------------------------------ Training model 1 ------------------------------\n",
      "Epoch 5: Loss = 1.0622 | Train accuracy = 60.89% | Val accuracy = 63.49%\n",
      "Epoch 10: Loss = 1.0320 | Train accuracy = 62.37% | Val accuracy = 67.35%\n",
      "Epoch 15: Loss = 0.8954 | Train accuracy = 66.41% | Val accuracy = 70.07%\n",
      "Epoch 20: Loss = 0.8825 | Train accuracy = 67.57% | Val accuracy = 69.39%\n",
      "Epoch 25: Loss = 0.8438 | Train accuracy = 70.14% | Val accuracy = 70.98%\n",
      "Epoch 30: Loss = 0.7423 | Train accuracy = 71.78% | Val accuracy = 72.79%\n",
      "Epoch 35: Loss = 0.7158 | Train accuracy = 73.70% | Val accuracy = 73.24%\n",
      "Epoch 40: Loss = 0.6966 | Train accuracy = 74.54% | Val accuracy = 73.24%\n",
      "Epoch 45: Loss = 0.7300 | Train accuracy = 73.26% | Val accuracy = 66.21%\n",
      "Early stopping triggered\n",
      "------------------------------ Training model 2 ------------------------------\n",
      "Epoch 5: Loss = 1.0606 | Train accuracy = 60.25% | Val accuracy = 64.40%\n",
      "Epoch 10: Loss = 0.9240 | Train accuracy = 64.33% | Val accuracy = 65.76%\n",
      "Epoch 15: Loss = 0.8446 | Train accuracy = 67.69% | Val accuracy = 67.12%\n",
      "Epoch 20: Loss = 0.7550 | Train accuracy = 71.02% | Val accuracy = 71.66%\n",
      "Epoch 25: Loss = 0.8050 | Train accuracy = 70.86% | Val accuracy = 73.02%\n",
      "Epoch 30: Loss = 0.6748 | Train accuracy = 75.02% | Val accuracy = 74.15%\n",
      "Epoch 35: Loss = 0.6475 | Train accuracy = 76.26% | Val accuracy = 72.56%\n",
      "Epoch 40: Loss = 0.6202 | Train accuracy = 77.42% | Val accuracy = 73.70%\n",
      "Epoch 45: Loss = 0.5824 | Train accuracy = 79.62% | Val accuracy = 76.87%\n",
      "Epoch 50: Loss = 0.5489 | Train accuracy = 81.31% | Val accuracy = 75.28%\n",
      "Epoch 55: Loss = 0.4739 | Train accuracy = 83.15% | Val accuracy = 75.28%\n",
      "Early stopping triggered\n",
      "------------------------------ Training model 3 ------------------------------\n",
      "Epoch 5: Loss = 0.9827 | Train accuracy = 61.61% | Val accuracy = 63.27%\n",
      "Epoch 10: Loss = 0.9322 | Train accuracy = 64.57% | Val accuracy = 63.49%\n",
      "Epoch 15: Loss = 0.8726 | Train accuracy = 66.37% | Val accuracy = 65.53%\n",
      "Epoch 20: Loss = 0.7671 | Train accuracy = 71.30% | Val accuracy = 66.67%\n",
      "Epoch 25: Loss = 0.6955 | Train accuracy = 73.74% | Val accuracy = 72.34%\n",
      "Epoch 30: Loss = 0.6755 | Train accuracy = 75.62% | Val accuracy = 70.98%\n",
      "Epoch 35: Loss = 0.5906 | Train accuracy = 78.94% | Val accuracy = 72.11%\n",
      "Epoch 40: Loss = 0.6266 | Train accuracy = 77.10% | Val accuracy = 72.34%\n",
      "Epoch 45: Loss = 0.5406 | Train accuracy = 80.58% | Val accuracy = 73.02%\n",
      "Epoch 50: Loss = 0.4699 | Train accuracy = 84.03% | Val accuracy = 74.15%\n",
      "Epoch 55: Loss = 0.3936 | Train accuracy = 86.19% | Val accuracy = 75.51%\n",
      "Epoch 60: Loss = 0.3345 | Train accuracy = 88.27% | Val accuracy = 76.87%\n",
      "Epoch 65: Loss = 0.4953 | Train accuracy = 81.59% | Val accuracy = 75.06%\n",
      "Epoch 70: Loss = 0.2586 | Train accuracy = 91.95% | Val accuracy = 76.42%\n",
      "Early stopping triggered\n",
      "------------------------------ Training model 4 ------------------------------\n",
      "Epoch 5: Loss = 1.1887 | Train accuracy = 56.57% | Val accuracy = 58.96%\n",
      "Epoch 10: Loss = 1.0718 | Train accuracy = 59.21% | Val accuracy = 61.68%\n",
      "Epoch 15: Loss = 0.9710 | Train accuracy = 64.17% | Val accuracy = 65.53%\n",
      "Epoch 20: Loss = 0.8506 | Train accuracy = 67.89% | Val accuracy = 69.16%\n",
      "Epoch 25: Loss = 0.8735 | Train accuracy = 69.54% | Val accuracy = 70.98%\n",
      "Epoch 30: Loss = 0.7571 | Train accuracy = 73.26% | Val accuracy = 65.99%\n",
      "Epoch 35: Loss = 0.7112 | Train accuracy = 75.14% | Val accuracy = 73.47%\n",
      "Epoch 40: Loss = 0.6563 | Train accuracy = 76.46% | Val accuracy = 75.51%\n",
      "Epoch 45: Loss = 0.6017 | Train accuracy = 77.74% | Val accuracy = 77.10%\n",
      "Epoch 50: Loss = 0.5740 | Train accuracy = 78.86% | Val accuracy = 77.55%\n",
      "Epoch 55: Loss = 0.5526 | Train accuracy = 79.78% | Val accuracy = 76.19%\n",
      "Epoch 60: Loss = 0.5421 | Train accuracy = 80.22% | Val accuracy = 77.32%\n",
      "Epoch 65: Loss = 0.4961 | Train accuracy = 81.27% | Val accuracy = 79.37%\n",
      "Epoch 70: Loss = 0.4801 | Train accuracy = 82.07% | Val accuracy = 79.82%\n",
      "Epoch 75: Loss = 0.4923 | Train accuracy = 82.47% | Val accuracy = 79.37%\n",
      "Epoch 80: Loss = 0.4511 | Train accuracy = 83.47% | Val accuracy = 79.14%\n",
      "Early stopping triggered\n",
      "------------------------------ Training model 5 ------------------------------\n",
      "Epoch 5: Loss = 1.1543 | Train accuracy = 57.73% | Val accuracy = 60.54%\n",
      "Epoch 10: Loss = 0.9513 | Train accuracy = 63.25% | Val accuracy = 66.89%\n",
      "Epoch 15: Loss = 0.8592 | Train accuracy = 68.17% | Val accuracy = 67.80%\n",
      "Epoch 20: Loss = 0.7578 | Train accuracy = 73.30% | Val accuracy = 73.47%\n",
      "Epoch 25: Loss = 0.6346 | Train accuracy = 75.74% | Val accuracy = 76.42%\n",
      "Epoch 30: Loss = 0.6620 | Train accuracy = 76.30% | Val accuracy = 78.00%\n",
      "Epoch 35: Loss = 0.5266 | Train accuracy = 80.90% | Val accuracy = 77.10%\n",
      "Epoch 40: Loss = 0.4921 | Train accuracy = 81.99% | Val accuracy = 78.46%\n",
      "Epoch 45: Loss = 0.5545 | Train accuracy = 78.78% | Val accuracy = 79.59%\n",
      "Epoch 50: Loss = 0.4175 | Train accuracy = 84.63% | Val accuracy = 78.91%\n",
      "Epoch 55: Loss = 0.3677 | Train accuracy = 87.03% | Val accuracy = 76.19%\n",
      "Epoch 60: Loss = 0.3571 | Train accuracy = 87.35% | Val accuracy = 81.41%\n",
      "Epoch 65: Loss = 0.3037 | Train accuracy = 89.83% | Val accuracy = 80.50%\n",
      "Epoch 70: Loss = 0.3159 | Train accuracy = 89.75% | Val accuracy = 80.95%\n",
      "Epoch 75: Loss = 0.2526 | Train accuracy = 91.51% | Val accuracy = 81.63%\n",
      "Epoch 80: Loss = 0.2246 | Train accuracy = 92.79% | Val accuracy = 81.41%\n",
      "Early stopping triggered\n",
      "------------------------------ Training model 6 ------------------------------\n",
      "Epoch 5: Loss = 1.0820 | Train accuracy = 59.97% | Val accuracy = 60.32%\n",
      "Epoch 10: Loss = 0.9824 | Train accuracy = 62.69% | Val accuracy = 63.95%\n",
      "Epoch 15: Loss = 0.8840 | Train accuracy = 66.69% | Val accuracy = 64.85%\n",
      "Epoch 20: Loss = 0.8089 | Train accuracy = 69.98% | Val accuracy = 70.75%\n",
      "Epoch 25: Loss = 0.7209 | Train accuracy = 73.42% | Val accuracy = 73.70%\n",
      "Epoch 30: Loss = 0.6941 | Train accuracy = 74.82% | Val accuracy = 73.02%\n",
      "Epoch 35: Loss = 0.6329 | Train accuracy = 77.66% | Val accuracy = 76.42%\n",
      "Epoch 40: Loss = 0.5709 | Train accuracy = 79.10% | Val accuracy = 76.19%\n",
      "Epoch 45: Loss = 0.5672 | Train accuracy = 79.30% | Val accuracy = 76.64%\n",
      "Epoch 50: Loss = 0.5212 | Train accuracy = 81.51% | Val accuracy = 78.91%\n",
      "Epoch 55: Loss = 0.4869 | Train accuracy = 82.31% | Val accuracy = 79.37%\n",
      "Epoch 60: Loss = 0.4719 | Train accuracy = 83.83% | Val accuracy = 78.23%\n",
      "Early stopping triggered\n",
      "------------------------------ Training model 7 ------------------------------\n",
      "Epoch 5: Loss = 0.9730 | Train accuracy = 62.61% | Val accuracy = 64.85%\n",
      "Epoch 10: Loss = 0.8447 | Train accuracy = 67.09% | Val accuracy = 67.80%\n",
      "Epoch 15: Loss = 0.7246 | Train accuracy = 73.78% | Val accuracy = 73.92%\n",
      "Epoch 20: Loss = 0.6052 | Train accuracy = 77.50% | Val accuracy = 76.19%\n",
      "Epoch 25: Loss = 0.5386 | Train accuracy = 81.47% | Val accuracy = 77.10%\n",
      "Epoch 30: Loss = 0.4504 | Train accuracy = 83.71% | Val accuracy = 78.91%\n",
      "Epoch 35: Loss = 0.4081 | Train accuracy = 85.63% | Val accuracy = 78.91%\n",
      "Epoch 40: Loss = 0.3685 | Train accuracy = 87.07% | Val accuracy = 79.82%\n",
      "Epoch 45: Loss = 0.4265 | Train accuracy = 83.99% | Val accuracy = 79.37%\n",
      "Early stopping triggered\n"
     ]
    }
   ],
   "source": [
    "results = measure_performance(models, train_loader, val_loader, device, epochs=100, lr=3e-4, patience=10, path=\"models/\")"
   ]
  },
  {
   "cell_type": "code",
   "execution_count": 24,
   "id": "c563479f",
   "metadata": {},
   "outputs": [
    {
     "data": {
      "text/html": [
       "<div>\n",
       "<style scoped>\n",
       "    .dataframe tbody tr th:only-of-type {\n",
       "        vertical-align: middle;\n",
       "    }\n",
       "\n",
       "    .dataframe tbody tr th {\n",
       "        vertical-align: top;\n",
       "    }\n",
       "\n",
       "    .dataframe thead th {\n",
       "        text-align: right;\n",
       "    }\n",
       "</style>\n",
       "<table border=\"1\" class=\"dataframe\">\n",
       "  <thead>\n",
       "    <tr style=\"text-align: right;\">\n",
       "      <th></th>\n",
       "      <th>Model</th>\n",
       "      <th>Training accuracy</th>\n",
       "      <th>Validation accuracy</th>\n",
       "    </tr>\n",
       "  </thead>\n",
       "  <tbody>\n",
       "    <tr>\n",
       "      <th>0</th>\n",
       "      <td>LSTMClassifier(\\n  (lstm): LSTM(1, 128, batch_...</td>\n",
       "      <td>79.7%</td>\n",
       "      <td>73.7%</td>\n",
       "    </tr>\n",
       "    <tr>\n",
       "      <th>1</th>\n",
       "      <td>LSTMClassifier(\\n  (lstm): LSTM(1, 128, num_la...</td>\n",
       "      <td>74.66%</td>\n",
       "      <td>72.56%</td>\n",
       "    </tr>\n",
       "    <tr>\n",
       "      <th>2</th>\n",
       "      <td>LSTMClassifier(\\n  (lstm): LSTM(1, 128, batch_...</td>\n",
       "      <td>83.67%</td>\n",
       "      <td>75.28%</td>\n",
       "    </tr>\n",
       "    <tr>\n",
       "      <th>3</th>\n",
       "      <td>LSTMClassifier(\\n  (lstm): LSTM(1, 128, num_la...</td>\n",
       "      <td>94.2%</td>\n",
       "      <td>77.55%</td>\n",
       "    </tr>\n",
       "    <tr>\n",
       "      <th>4</th>\n",
       "      <td>GRUClassifier(\\n  (gru): GRU(1, 128, batch_fir...</td>\n",
       "      <td>83.55%</td>\n",
       "      <td>79.14%</td>\n",
       "    </tr>\n",
       "    <tr>\n",
       "      <th>5</th>\n",
       "      <td>GRUClassifier(\\n  (gru): GRU(1, 128, num_layer...</td>\n",
       "      <td>92.83%</td>\n",
       "      <td>81.41%</td>\n",
       "    </tr>\n",
       "    <tr>\n",
       "      <th>6</th>\n",
       "      <td>GRUClassifier(\\n  (gru): GRU(1, 128, batch_fir...</td>\n",
       "      <td>85.55%</td>\n",
       "      <td>78.68%</td>\n",
       "    </tr>\n",
       "    <tr>\n",
       "      <th>7</th>\n",
       "      <td>GRUClassifier(\\n  (gru): GRU(1, 128, num_layer...</td>\n",
       "      <td>88.39%</td>\n",
       "      <td>78.23%</td>\n",
       "    </tr>\n",
       "  </tbody>\n",
       "</table>\n",
       "</div>"
      ],
      "text/plain": [
       "                                               Model Training accuracy  \\\n",
       "0  LSTMClassifier(\\n  (lstm): LSTM(1, 128, batch_...             79.7%   \n",
       "1  LSTMClassifier(\\n  (lstm): LSTM(1, 128, num_la...            74.66%   \n",
       "2  LSTMClassifier(\\n  (lstm): LSTM(1, 128, batch_...            83.67%   \n",
       "3  LSTMClassifier(\\n  (lstm): LSTM(1, 128, num_la...             94.2%   \n",
       "4  GRUClassifier(\\n  (gru): GRU(1, 128, batch_fir...            83.55%   \n",
       "5  GRUClassifier(\\n  (gru): GRU(1, 128, num_layer...            92.83%   \n",
       "6  GRUClassifier(\\n  (gru): GRU(1, 128, batch_fir...            85.55%   \n",
       "7  GRUClassifier(\\n  (gru): GRU(1, 128, num_layer...            88.39%   \n",
       "\n",
       "  Validation accuracy  \n",
       "0               73.7%  \n",
       "1              72.56%  \n",
       "2              75.28%  \n",
       "3              77.55%  \n",
       "4              79.14%  \n",
       "5              81.41%  \n",
       "6              78.68%  \n",
       "7              78.23%  "
      ]
     },
     "execution_count": 24,
     "metadata": {},
     "output_type": "execute_result"
    }
   ],
   "source": [
    "results = pd.DataFrame(results, columns=[\"Model\", \"Training accuracy\", \"Validation accuracy\"])\n",
    "results [\"Training accuracy\"] = results [\"Training accuracy\"].apply(lambda x: f\"{round(float(x.strip('%')), 2)}%\")\n",
    "results [\"Validation accuracy\"] = results [\"Validation accuracy\"].apply(lambda x: f\"{round(float(x.strip('%')), 2)}%\")\n",
    "results"
   ]
  },
  {
   "cell_type": "markdown",
   "id": "64fb8459",
   "metadata": {},
   "source": [
    "The best performance (validation accuracy) was achieved by GRU Classifier with 2 layers (model 5). The worst performance was achieved by LSTM Classifier with 1 layer.\n",
    "### Further experiments\n",
    "We took the GRU Classifier with 2 layers as our final architecture type and conducted more experiments with different learning rates and hidden sizes."
   ]
  },
  {
   "cell_type": "code",
   "execution_count": null,
   "id": "5eda4395",
   "metadata": {},
   "outputs": [],
   "source": [
    "final_models = [\n",
    "    GRUClassifier(\n",
    "        input_size=1, hidden_size=128, output_size=len(histogram), num_layers=2\n",
    "    ),\n",
    "    GRUClassifier(\n",
    "        input_size=1, hidden_size=64, output_size=len(histogram), num_layers=2\n",
    "    ),\n",
    "    GRUClassifier(\n",
    "        input_size=1, hidden_size=64, output_size=len(histogram), num_layers=2\n",
    "    ),\n",
    "]\n",
    "learning_rates = [3e-3, 3e-3, 3e-4]"
   ]
  },
  {
   "cell_type": "code",
   "execution_count": null,
   "id": "28f0e59a",
   "metadata": {},
   "outputs": [
    {
     "name": "stdout",
     "output_type": "stream",
     "text": [
      "------------------------------ Training model 0 ------------------------------\n"
     ]
    },
    {
     "name": "stderr",
     "output_type": "stream",
     "text": [
      "/home/atarsander/University/Neural-Networks/lab5/utils.py:27: UserWarning: To copy construct from a tensor, it is recommended to use sourceTensor.detach().clone() or sourceTensor.detach().clone().requires_grad_(True), rather than torch.tensor(sourceTensor).\n",
      "  sequences = [torch.tensor(seq).unsqueeze(-1).float() for seq in sequences]\n"
     ]
    },
    {
     "name": "stdout",
     "output_type": "stream",
     "text": [
      "Epoch 5: Loss = 0.0249 | Train accuracy = 99.40% | Val accuracy = 80.27%\n"
     ]
    },
    {
     "ename": "KeyboardInterrupt",
     "evalue": "",
     "output_type": "error",
     "traceback": [
      "\u001b[31m---------------------------------------------------------------------------\u001b[39m",
      "\u001b[31mKeyboardInterrupt\u001b[39m                         Traceback (most recent call last)",
      "\u001b[36mCell\u001b[39m\u001b[36m \u001b[39m\u001b[32mIn[64]\u001b[39m\u001b[32m, line 1\u001b[39m\n\u001b[32m----> \u001b[39m\u001b[32m1\u001b[39m results_final = \u001b[43mtest_models\u001b[49m\u001b[43m(\u001b[49m\u001b[43mfinal_models\u001b[49m\u001b[43m,\u001b[49m\u001b[43m \u001b[49m\u001b[43mtrain_loader\u001b[49m\u001b[43m,\u001b[49m\u001b[43m \u001b[49m\u001b[43mval_loader\u001b[49m\u001b[43m,\u001b[49m\u001b[43m \u001b[49m\u001b[43mdevice\u001b[49m\u001b[43m,\u001b[49m\u001b[43m \u001b[49m\u001b[43mlearning_rates\u001b[49m\u001b[43m)\u001b[49m\n",
      "\u001b[36mCell\u001b[39m\u001b[36m \u001b[39m\u001b[32mIn[58]\u001b[39m\u001b[32m, line 5\u001b[39m, in \u001b[36mtest_models\u001b[39m\u001b[34m(models, train_loader, val_loader, device, lrs, epochs, patience, path)\u001b[39m\n\u001b[32m      3\u001b[39m \u001b[38;5;28;01mfor\u001b[39;00m i, model \u001b[38;5;129;01min\u001b[39;00m \u001b[38;5;28menumerate\u001b[39m(models):\n\u001b[32m      4\u001b[39m     \u001b[38;5;28mprint\u001b[39m(\u001b[33m\"\u001b[39m\u001b[33m-\u001b[39m\u001b[33m\"\u001b[39m * \u001b[32m30\u001b[39m, \u001b[33mf\u001b[39m\u001b[33m\"\u001b[39m\u001b[33mTraining model \u001b[39m\u001b[38;5;132;01m{\u001b[39;00mi\u001b[38;5;132;01m}\u001b[39;00m\u001b[33m\"\u001b[39m, \u001b[33m\"\u001b[39m\u001b[33m-\u001b[39m\u001b[33m\"\u001b[39m * \u001b[32m30\u001b[39m)\n\u001b[32m----> \u001b[39m\u001b[32m5\u001b[39m     \u001b[43mtrain_model\u001b[49m\u001b[43m(\u001b[49m\n\u001b[32m      6\u001b[39m \u001b[43m        \u001b[49m\u001b[43mmodel\u001b[49m\u001b[43m,\u001b[49m\n\u001b[32m      7\u001b[39m \u001b[43m        \u001b[49m\u001b[43mtrain_loader\u001b[49m\u001b[43m,\u001b[49m\n\u001b[32m      8\u001b[39m \u001b[43m        \u001b[49m\u001b[43mval_loader\u001b[49m\u001b[43m,\u001b[49m\n\u001b[32m      9\u001b[39m \u001b[43m        \u001b[49m\u001b[43mdevice\u001b[49m\u001b[43m,\u001b[49m\n\u001b[32m     10\u001b[39m \u001b[43m        \u001b[49m\u001b[43mepochs\u001b[49m\u001b[43m=\u001b[49m\u001b[43mepochs\u001b[49m\u001b[43m,\u001b[49m\n\u001b[32m     11\u001b[39m \u001b[43m        \u001b[49m\u001b[43mlr\u001b[49m\u001b[43m=\u001b[49m\u001b[43mlrs\u001b[49m\u001b[43m[\u001b[49m\u001b[43mi\u001b[49m\u001b[43m]\u001b[49m\u001b[43m,\u001b[49m\n\u001b[32m     12\u001b[39m \u001b[43m        \u001b[49m\u001b[43mpatience\u001b[49m\u001b[43m=\u001b[49m\u001b[43mpatience\u001b[49m\u001b[43m,\u001b[49m\n\u001b[32m     13\u001b[39m \u001b[43m        \u001b[49m\u001b[43mfile_path\u001b[49m\u001b[43m=\u001b[49m\u001b[43mpath\u001b[49m\u001b[43m \u001b[49m\u001b[43m+\u001b[49m\u001b[43m \u001b[49m\u001b[33;43mf\u001b[39;49m\u001b[33;43m\"\u001b[39;49m\u001b[33;43mfinal_model_\u001b[39;49m\u001b[38;5;132;43;01m{\u001b[39;49;00m\u001b[43mi\u001b[49m\u001b[38;5;132;43;01m}\u001b[39;49;00m\u001b[33;43m.pth\u001b[39;49m\u001b[33;43m\"\u001b[39;49m\u001b[43m,\u001b[49m\n\u001b[32m     14\u001b[39m \u001b[43m    \u001b[49m\u001b[43m)\u001b[49m\n\u001b[32m     15\u001b[39m     train_preds, train_labels = predict(model, train_loader, device)\n\u001b[32m     16\u001b[39m     train_accuracy = evaluate(train_preds, train_labels)\n",
      "\u001b[36mFile \u001b[39m\u001b[32m~/University/Neural-Networks/lab5/model.py:115\u001b[39m, in \u001b[36mtrain_model\u001b[39m\u001b[34m(model, dataloader, val_dataloader, device, epochs, lr, patience, file_path)\u001b[39m\n\u001b[32m    112\u001b[39m x, lengths, y = x.to(device).float(), lengths.to(device), y.to(device)\n\u001b[32m    114\u001b[39m optimizer.zero_grad()\n\u001b[32m--> \u001b[39m\u001b[32m115\u001b[39m output = \u001b[43mmodel\u001b[49m\u001b[43m(\u001b[49m\u001b[43mx\u001b[49m\u001b[43m,\u001b[49m\u001b[43m \u001b[49m\u001b[43mlengths\u001b[49m\u001b[43m)\u001b[49m\n\u001b[32m    117\u001b[39m loss = criterion(output, y)\n\u001b[32m    118\u001b[39m loss.backward()\n",
      "\u001b[36mFile \u001b[39m\u001b[32m~/Programs/anaconda3/envs/ssne/lib/python3.13/site-packages/torch/nn/modules/module.py:1751\u001b[39m, in \u001b[36mModule._wrapped_call_impl\u001b[39m\u001b[34m(self, *args, **kwargs)\u001b[39m\n\u001b[32m   1749\u001b[39m     \u001b[38;5;28;01mreturn\u001b[39;00m \u001b[38;5;28mself\u001b[39m._compiled_call_impl(*args, **kwargs)  \u001b[38;5;66;03m# type: ignore[misc]\u001b[39;00m\n\u001b[32m   1750\u001b[39m \u001b[38;5;28;01melse\u001b[39;00m:\n\u001b[32m-> \u001b[39m\u001b[32m1751\u001b[39m     \u001b[38;5;28;01mreturn\u001b[39;00m \u001b[38;5;28;43mself\u001b[39;49m\u001b[43m.\u001b[49m\u001b[43m_call_impl\u001b[49m\u001b[43m(\u001b[49m\u001b[43m*\u001b[49m\u001b[43margs\u001b[49m\u001b[43m,\u001b[49m\u001b[43m \u001b[49m\u001b[43m*\u001b[49m\u001b[43m*\u001b[49m\u001b[43mkwargs\u001b[49m\u001b[43m)\u001b[49m\n",
      "\u001b[36mFile \u001b[39m\u001b[32m~/Programs/anaconda3/envs/ssne/lib/python3.13/site-packages/torch/nn/modules/module.py:1762\u001b[39m, in \u001b[36mModule._call_impl\u001b[39m\u001b[34m(self, *args, **kwargs)\u001b[39m\n\u001b[32m   1757\u001b[39m \u001b[38;5;66;03m# If we don't have any hooks, we want to skip the rest of the logic in\u001b[39;00m\n\u001b[32m   1758\u001b[39m \u001b[38;5;66;03m# this function, and just call forward.\u001b[39;00m\n\u001b[32m   1759\u001b[39m \u001b[38;5;28;01mif\u001b[39;00m \u001b[38;5;129;01mnot\u001b[39;00m (\u001b[38;5;28mself\u001b[39m._backward_hooks \u001b[38;5;129;01mor\u001b[39;00m \u001b[38;5;28mself\u001b[39m._backward_pre_hooks \u001b[38;5;129;01mor\u001b[39;00m \u001b[38;5;28mself\u001b[39m._forward_hooks \u001b[38;5;129;01mor\u001b[39;00m \u001b[38;5;28mself\u001b[39m._forward_pre_hooks\n\u001b[32m   1760\u001b[39m         \u001b[38;5;129;01mor\u001b[39;00m _global_backward_pre_hooks \u001b[38;5;129;01mor\u001b[39;00m _global_backward_hooks\n\u001b[32m   1761\u001b[39m         \u001b[38;5;129;01mor\u001b[39;00m _global_forward_hooks \u001b[38;5;129;01mor\u001b[39;00m _global_forward_pre_hooks):\n\u001b[32m-> \u001b[39m\u001b[32m1762\u001b[39m     \u001b[38;5;28;01mreturn\u001b[39;00m \u001b[43mforward_call\u001b[49m\u001b[43m(\u001b[49m\u001b[43m*\u001b[49m\u001b[43margs\u001b[49m\u001b[43m,\u001b[49m\u001b[43m \u001b[49m\u001b[43m*\u001b[49m\u001b[43m*\u001b[49m\u001b[43mkwargs\u001b[49m\u001b[43m)\u001b[49m\n\u001b[32m   1764\u001b[39m result = \u001b[38;5;28;01mNone\u001b[39;00m\n\u001b[32m   1765\u001b[39m called_always_called_hooks = \u001b[38;5;28mset\u001b[39m()\n",
      "\u001b[36mFile \u001b[39m\u001b[32m~/University/Neural-Networks/lab5/model.py:59\u001b[39m, in \u001b[36mGRUClassifier.forward\u001b[39m\u001b[34m(self, x, lengths)\u001b[39m\n\u001b[32m     55\u001b[39m \u001b[38;5;28;01mdef\u001b[39;00m\u001b[38;5;250m \u001b[39m\u001b[34mforward\u001b[39m(\u001b[38;5;28mself\u001b[39m, x, lengths):\n\u001b[32m     56\u001b[39m     packed_input = pack_padded_sequence(\n\u001b[32m     57\u001b[39m         x, lengths.cpu(), batch_first=\u001b[38;5;28;01mTrue\u001b[39;00m, enforce_sorted=\u001b[38;5;28;01mFalse\u001b[39;00m\n\u001b[32m     58\u001b[39m     )\n\u001b[32m---> \u001b[39m\u001b[32m59\u001b[39m     packed_output, hidden = \u001b[38;5;28;43mself\u001b[39;49m\u001b[43m.\u001b[49m\u001b[43mgru\u001b[49m\u001b[43m(\u001b[49m\u001b[43mpacked_input\u001b[49m\u001b[43m)\u001b[49m\n\u001b[32m     60\u001b[39m     \u001b[38;5;28;01mif\u001b[39;00m \u001b[38;5;28mself\u001b[39m.bidirectional:\n\u001b[32m     61\u001b[39m         hidden_cat = torch.cat((hidden[-\u001b[32m2\u001b[39m], hidden[-\u001b[32m1\u001b[39m]), dim=\u001b[32m1\u001b[39m)\n",
      "\u001b[36mFile \u001b[39m\u001b[32m~/Programs/anaconda3/envs/ssne/lib/python3.13/site-packages/torch/nn/modules/module.py:1751\u001b[39m, in \u001b[36mModule._wrapped_call_impl\u001b[39m\u001b[34m(self, *args, **kwargs)\u001b[39m\n\u001b[32m   1749\u001b[39m     \u001b[38;5;28;01mreturn\u001b[39;00m \u001b[38;5;28mself\u001b[39m._compiled_call_impl(*args, **kwargs)  \u001b[38;5;66;03m# type: ignore[misc]\u001b[39;00m\n\u001b[32m   1750\u001b[39m \u001b[38;5;28;01melse\u001b[39;00m:\n\u001b[32m-> \u001b[39m\u001b[32m1751\u001b[39m     \u001b[38;5;28;01mreturn\u001b[39;00m \u001b[38;5;28;43mself\u001b[39;49m\u001b[43m.\u001b[49m\u001b[43m_call_impl\u001b[49m\u001b[43m(\u001b[49m\u001b[43m*\u001b[49m\u001b[43margs\u001b[49m\u001b[43m,\u001b[49m\u001b[43m \u001b[49m\u001b[43m*\u001b[49m\u001b[43m*\u001b[49m\u001b[43mkwargs\u001b[49m\u001b[43m)\u001b[49m\n",
      "\u001b[36mFile \u001b[39m\u001b[32m~/Programs/anaconda3/envs/ssne/lib/python3.13/site-packages/torch/nn/modules/module.py:1762\u001b[39m, in \u001b[36mModule._call_impl\u001b[39m\u001b[34m(self, *args, **kwargs)\u001b[39m\n\u001b[32m   1757\u001b[39m \u001b[38;5;66;03m# If we don't have any hooks, we want to skip the rest of the logic in\u001b[39;00m\n\u001b[32m   1758\u001b[39m \u001b[38;5;66;03m# this function, and just call forward.\u001b[39;00m\n\u001b[32m   1759\u001b[39m \u001b[38;5;28;01mif\u001b[39;00m \u001b[38;5;129;01mnot\u001b[39;00m (\u001b[38;5;28mself\u001b[39m._backward_hooks \u001b[38;5;129;01mor\u001b[39;00m \u001b[38;5;28mself\u001b[39m._backward_pre_hooks \u001b[38;5;129;01mor\u001b[39;00m \u001b[38;5;28mself\u001b[39m._forward_hooks \u001b[38;5;129;01mor\u001b[39;00m \u001b[38;5;28mself\u001b[39m._forward_pre_hooks\n\u001b[32m   1760\u001b[39m         \u001b[38;5;129;01mor\u001b[39;00m _global_backward_pre_hooks \u001b[38;5;129;01mor\u001b[39;00m _global_backward_hooks\n\u001b[32m   1761\u001b[39m         \u001b[38;5;129;01mor\u001b[39;00m _global_forward_hooks \u001b[38;5;129;01mor\u001b[39;00m _global_forward_pre_hooks):\n\u001b[32m-> \u001b[39m\u001b[32m1762\u001b[39m     \u001b[38;5;28;01mreturn\u001b[39;00m \u001b[43mforward_call\u001b[49m\u001b[43m(\u001b[49m\u001b[43m*\u001b[49m\u001b[43margs\u001b[49m\u001b[43m,\u001b[49m\u001b[43m \u001b[49m\u001b[43m*\u001b[49m\u001b[43m*\u001b[49m\u001b[43mkwargs\u001b[49m\u001b[43m)\u001b[49m\n\u001b[32m   1764\u001b[39m result = \u001b[38;5;28;01mNone\u001b[39;00m\n\u001b[32m   1765\u001b[39m called_always_called_hooks = \u001b[38;5;28mset\u001b[39m()\n",
      "\u001b[36mFile \u001b[39m\u001b[32m~/Programs/anaconda3/envs/ssne/lib/python3.13/site-packages/torch/nn/modules/rnn.py:1405\u001b[39m, in \u001b[36mGRU.forward\u001b[39m\u001b[34m(self, input, hx)\u001b[39m\n\u001b[32m   1393\u001b[39m     result = _VF.gru(\n\u001b[32m   1394\u001b[39m         \u001b[38;5;28minput\u001b[39m,\n\u001b[32m   1395\u001b[39m         hx,\n\u001b[32m   (...)\u001b[39m\u001b[32m   1402\u001b[39m         \u001b[38;5;28mself\u001b[39m.batch_first,\n\u001b[32m   1403\u001b[39m     )\n\u001b[32m   1404\u001b[39m \u001b[38;5;28;01melse\u001b[39;00m:\n\u001b[32m-> \u001b[39m\u001b[32m1405\u001b[39m     result = \u001b[43m_VF\u001b[49m\u001b[43m.\u001b[49m\u001b[43mgru\u001b[49m\u001b[43m(\u001b[49m\n\u001b[32m   1406\u001b[39m \u001b[43m        \u001b[49m\u001b[38;5;28;43minput\u001b[39;49m\u001b[43m,\u001b[49m\n\u001b[32m   1407\u001b[39m \u001b[43m        \u001b[49m\u001b[43mbatch_sizes\u001b[49m\u001b[43m,\u001b[49m\n\u001b[32m   1408\u001b[39m \u001b[43m        \u001b[49m\u001b[43mhx\u001b[49m\u001b[43m,\u001b[49m\n\u001b[32m   1409\u001b[39m \u001b[43m        \u001b[49m\u001b[38;5;28;43mself\u001b[39;49m\u001b[43m.\u001b[49m\u001b[43m_flat_weights\u001b[49m\u001b[43m,\u001b[49m\u001b[43m  \u001b[49m\u001b[38;5;66;43;03m# type: ignore[arg-type]\u001b[39;49;00m\n\u001b[32m   1410\u001b[39m \u001b[43m        \u001b[49m\u001b[38;5;28;43mself\u001b[39;49m\u001b[43m.\u001b[49m\u001b[43mbias\u001b[49m\u001b[43m,\u001b[49m\n\u001b[32m   1411\u001b[39m \u001b[43m        \u001b[49m\u001b[38;5;28;43mself\u001b[39;49m\u001b[43m.\u001b[49m\u001b[43mnum_layers\u001b[49m\u001b[43m,\u001b[49m\n\u001b[32m   1412\u001b[39m \u001b[43m        \u001b[49m\u001b[38;5;28;43mself\u001b[39;49m\u001b[43m.\u001b[49m\u001b[43mdropout\u001b[49m\u001b[43m,\u001b[49m\n\u001b[32m   1413\u001b[39m \u001b[43m        \u001b[49m\u001b[38;5;28;43mself\u001b[39;49m\u001b[43m.\u001b[49m\u001b[43mtraining\u001b[49m\u001b[43m,\u001b[49m\n\u001b[32m   1414\u001b[39m \u001b[43m        \u001b[49m\u001b[38;5;28;43mself\u001b[39;49m\u001b[43m.\u001b[49m\u001b[43mbidirectional\u001b[49m\u001b[43m,\u001b[49m\n\u001b[32m   1415\u001b[39m \u001b[43m    \u001b[49m\u001b[43m)\u001b[49m\n\u001b[32m   1416\u001b[39m output = result[\u001b[32m0\u001b[39m]\n\u001b[32m   1417\u001b[39m hidden = result[\u001b[32m1\u001b[39m]\n",
      "\u001b[31mKeyboardInterrupt\u001b[39m: "
     ]
    }
   ],
   "source": [
    "# results_final = test_models(final_models, train_loader, val_loader, device, learning_rates)"
   ]
  },
  {
   "cell_type": "code",
   "execution_count": 75,
   "id": "87d071cf",
   "metadata": {},
   "outputs": [
    {
     "name": "stderr",
     "output_type": "stream",
     "text": [
      "/home/atarsander/University/Neural-Networks/lab5/utils.py:27: UserWarning: To copy construct from a tensor, it is recommended to use sourceTensor.detach().clone() or sourceTensor.detach().clone().requires_grad_(True), rather than torch.tensor(sourceTensor).\n",
      "  sequences = [torch.tensor(seq).unsqueeze(-1).float() for seq in sequences]\n"
     ]
    }
   ],
   "source": [
    "results_final = []\n",
    "for i, model in enumerate(final_models):\n",
    "    model = torch.load(f\"models/final_model_{i}.pth\", map_location=device, weights_only=False)\n",
    "    train_preds, train_labels = predict(model, train_loader, device)\n",
    "    train_accuracy = evaluate(train_preds, train_labels)\n",
    "    val_preds, val_labels = predict(model, val_loader, device)\n",
    "    val_accuracy = evaluate(val_preds, val_labels)\n",
    "    results_final.append((str(model), train_accuracy, val_accuracy))"
   ]
  },
  {
   "cell_type": "code",
   "execution_count": 76,
   "id": "c79cc01c",
   "metadata": {},
   "outputs": [
    {
     "data": {
      "text/html": [
       "<div>\n",
       "<style scoped>\n",
       "    .dataframe tbody tr th:only-of-type {\n",
       "        vertical-align: middle;\n",
       "    }\n",
       "\n",
       "    .dataframe tbody tr th {\n",
       "        vertical-align: top;\n",
       "    }\n",
       "\n",
       "    .dataframe thead th {\n",
       "        text-align: right;\n",
       "    }\n",
       "</style>\n",
       "<table border=\"1\" class=\"dataframe\">\n",
       "  <thead>\n",
       "    <tr style=\"text-align: right;\">\n",
       "      <th></th>\n",
       "      <th>Model</th>\n",
       "      <th>Training accuracy</th>\n",
       "      <th>Validation accuracy</th>\n",
       "    </tr>\n",
       "  </thead>\n",
       "  <tbody>\n",
       "    <tr>\n",
       "      <th>0</th>\n",
       "      <td>GRUClassifier(\\n  (gru): GRU(1, 128, num_layer...</td>\n",
       "      <td>tensor(0.9896)</td>\n",
       "      <td>tensor(0.8027)</td>\n",
       "    </tr>\n",
       "    <tr>\n",
       "      <th>1</th>\n",
       "      <td>GRUClassifier(\\n  (gru): GRU(1, 64, num_layers...</td>\n",
       "      <td>tensor(0.9339)</td>\n",
       "      <td>tensor(0.8163)</td>\n",
       "    </tr>\n",
       "    <tr>\n",
       "      <th>2</th>\n",
       "      <td>GRUClassifier(\\n  (gru): GRU(1, 64, num_layers...</td>\n",
       "      <td>tensor(0.8483)</td>\n",
       "      <td>tensor(0.8005)</td>\n",
       "    </tr>\n",
       "  </tbody>\n",
       "</table>\n",
       "</div>"
      ],
      "text/plain": [
       "                                               Model Training accuracy  \\\n",
       "0  GRUClassifier(\\n  (gru): GRU(1, 128, num_layer...    tensor(0.9896)   \n",
       "1  GRUClassifier(\\n  (gru): GRU(1, 64, num_layers...    tensor(0.9339)   \n",
       "2  GRUClassifier(\\n  (gru): GRU(1, 64, num_layers...    tensor(0.8483)   \n",
       "\n",
       "  Validation accuracy  \n",
       "0      tensor(0.8027)  \n",
       "1      tensor(0.8163)  \n",
       "2      tensor(0.8005)  "
      ]
     },
     "execution_count": 76,
     "metadata": {},
     "output_type": "execute_result"
    }
   ],
   "source": [
    "df_final = pd.DataFrame(results_final, columns=[\"Model\", \"Training accuracy\", \"Validation accuracy\"])\n",
    "# df_final[\"Training accuracy\"] = df_final[\"Training accuracy\"].apply(\n",
    "#     lambda x: f\"{x.item():.2f}%\" if torch.is_tensor(x) else f\"{float(x):.2f}%\"\n",
    "# )\n",
    "\n",
    "# df_final[\"Validation accuracy\"] = df_final[\"Validation accuracy\"].apply(\n",
    "#     lambda x: f\"{x.item():.2f}%\" if torch.is_tensor(x) else f\"{float(x):.2f}%\"\n",
    "# )\n",
    "df_final"
   ]
  },
  {
   "cell_type": "code",
   "execution_count": 77,
   "id": "b617f649",
   "metadata": {},
   "outputs": [],
   "source": [
    "final_model = final_models[1]"
   ]
  },
  {
   "cell_type": "code",
   "execution_count": 78,
   "id": "9fa3c073",
   "metadata": {},
   "outputs": [
    {
     "name": "stdout",
     "output_type": "stream",
     "text": [
      "1103\n"
     ]
    }
   ],
   "source": [
    "with open(\"data/test_no_target.pkl\", \"rb\") as f:\n",
    "    test_data = pickle.load(f)\n",
    "print(len(test_data))"
   ]
  },
  {
   "cell_type": "code",
   "execution_count": 81,
   "id": "4f172807",
   "metadata": {},
   "outputs": [],
   "source": [
    "test_dataset = TestDataset(test_data)\n",
    "test_dataloader = DataLoader(test_dataset, batch_size=batch_size, shuffle=False, collate_fn=collate_fn_test)"
   ]
  },
  {
   "cell_type": "code",
   "execution_count": 83,
   "id": "af8149e4",
   "metadata": {},
   "outputs": [
    {
     "name": "stderr",
     "output_type": "stream",
     "text": [
      "/tmp/ipykernel_105811/768936045.py:6: UserWarning: To copy construct from a tensor, it is recommended to use sourceTensor.detach().clone() or sourceTensor.detach().clone().requires_grad_(True), rather than torch.tensor(sourceTensor).\n",
      "  sequences = [torch.tensor(seq).unsqueeze(-1).float() for seq in sequences]\n"
     ]
    }
   ],
   "source": [
    "predictions = predict_final(final_model, test_dataloader, device)"
   ]
  },
  {
   "cell_type": "code",
   "execution_count": 84,
   "id": "7c7e6872",
   "metadata": {},
   "outputs": [
    {
     "name": "stdout",
     "output_type": "stream",
     "text": [
      "1103\n"
     ]
    }
   ],
   "source": [
    "pred = pd.DataFrame(predictions)\n",
    "print(len(pred))\n",
    "pred.to_csv(\"pred.csv\", index=False, header=False)"
   ]
  },
  {
   "cell_type": "markdown",
   "id": "aee8763d",
   "metadata": {},
   "source": [
    "## Conclusions\n",
    "- The best performance in the initial experiment was achieved by GRU Classifier with 2 layers, with validation accuracy of 81.41%.\n",
    "- In the following experiment the result was slightly improved for the same classifier with smaller hidden size (64).\n",
    "- All of the GRU model's showed better generalization, train/val stability and lower overfitting risk than LSTM's.\n",
    "- Bidirectional LSTM with 2 layers (model 3) showed significant overfitting with 94.2% traning accuracy and 77.55% validation accuracy.\n",
    "- During every model's training it was necessary to use early stopping before target epochs=100, because of falling validation accuracy (patience=10)."
   ]
  }
 ],
 "metadata": {
  "kernelspec": {
   "display_name": "ssne",
   "language": "python",
   "name": "python3"
  },
  "language_info": {
   "codemirror_mode": {
    "name": "ipython",
    "version": 3
   },
   "file_extension": ".py",
   "mimetype": "text/x-python",
   "name": "python",
   "nbconvert_exporter": "python",
   "pygments_lexer": "ipython3",
   "version": "3.13.2"
  }
 },
 "nbformat": 4,
 "nbformat_minor": 5
}
