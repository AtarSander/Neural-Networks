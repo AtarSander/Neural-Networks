{
 "cells": [
  {
   "cell_type": "code",
   "execution_count": 13,
   "id": "d9e1065b",
   "metadata": {},
   "outputs": [],
   "source": [
    "from torch.nn.utils.rnn import pack_padded_sequence, pad_packed_sequence, pad_sequence\n",
    "from torch.utils.data import DataLoader, Dataset\n",
    "from sklearn.model_selection import train_test_split\n",
    "import pickle\n",
    "import matplotlib.pyplot as plt\n",
    "import numpy as np\n",
    "import seaborn as sns\n",
    "import pandas as pd\n",
    "import torch\n",
    "import torch.nn as nn\n"
   ]
  },
  {
   "cell_type": "code",
   "execution_count": 5,
   "id": "8ff92e3c",
   "metadata": {},
   "outputs": [],
   "source": [
    "with open(\"data/train.pkl\", \"rb\") as f:\n",
    "    train_data = pickle.load(f)"
   ]
  },
  {
   "cell_type": "code",
   "execution_count": 3,
   "id": "7a09b4bf",
   "metadata": {},
   "outputs": [],
   "source": [
    "def histogram(data):\n",
    "    hist = {}\n",
    "    for item in data:\n",
    "        hist[item[1]] = hist.get(item[1], 0) + 1\n",
    "    return hist"
   ]
  },
  {
   "cell_type": "code",
   "execution_count": 4,
   "id": "0a0ee64d",
   "metadata": {},
   "outputs": [],
   "source": [
    "histogram = histogram(train_data)"
   ]
  },
  {
   "cell_type": "code",
   "execution_count": 5,
   "id": "6478c43d",
   "metadata": {},
   "outputs": [
    {
     "data": {
      "image/png": "[encoded data removed]",
      "text/plain": [
       "<Figure size 640x480 with 1 Axes>"
      ]
     },
     "metadata": {},
     "output_type": "display_data"
    }
   ],
   "source": [
    "plt.bar(histogram.keys(), histogram.values())\n",
    "plt.xlabel(\"Label\")\n",
    "plt.ylabel(\"Count\")\n",
    "plt.title(\"Histogram of Labels in Training Data\")\n",
    "plt.tight_layout()\n",
    "plt.show()"
   ]
  },
  {
   "cell_type": "code",
   "execution_count": 33,
   "id": "ae23b451",
   "metadata": {},
   "outputs": [],
   "source": [
    "def len_histogram(data):\n",
    "    hist = {}\n",
    "    for item in data:\n",
    "        length = len(item[0])\n",
    "        hist[length] = hist.get(length, 0) + 1\n",
    "    return hist"
   ]
  },
  {
   "cell_type": "code",
   "execution_count": 34,
   "id": "d4e4a889",
   "metadata": {},
   "outputs": [],
   "source": [
    "lengths = len_histogram(train_data)"
   ]
  },
  {
   "cell_type": "code",
   "execution_count": 38,
   "id": "7cf6f898",
   "metadata": {},
   "outputs": [
    {
     "data": {
      "text/html": [
       "<div>\n",
       "<style scoped>\n",
       "    .dataframe tbody tr th:only-of-type {\n",
       "        vertical-align: middle;\n",
       "    }\n",
       "\n",
       "    .dataframe tbody tr th {\n",
       "        vertical-align: top;\n",
       "    }\n",
       "\n",
       "    .dataframe thead th {\n",
       "        text-align: right;\n",
       "    }\n",
       "</style>\n",
       "<table border=\"1\" class=\"dataframe\">\n",
       "  <thead>\n",
       "    <tr style=\"text-align: right;\">\n",
       "      <th></th>\n",
       "      <th>Dataset length</th>\n",
       "      <th>Min sequence length</th>\n",
       "      <th>Max sequence length</th>\n",
       "      <th>Mean sequence length</th>\n",
       "    </tr>\n",
       "  </thead>\n",
       "  <tbody>\n",
       "    <tr>\n",
       "      <th>0</th>\n",
       "      <td>2939</td>\n",
       "      <td>4</td>\n",
       "      <td>6308</td>\n",
       "      <td>861.128205</td>\n",
       "    </tr>\n",
       "  </tbody>\n",
       "</table>\n",
       "</div>"
      ],
      "text/plain": [
       "   Dataset length  Min sequence length  Max sequence length  \\\n",
       "0            2939                    4                 6308   \n",
       "\n",
       "   Mean sequence length  \n",
       "0            861.128205  "
      ]
     },
     "execution_count": 38,
     "metadata": {},
     "output_type": "execute_result"
    }
   ],
   "source": [
    "df = pd.DataFrame([{\n",
    "    \"Dataset length\": len(train_data),\n",
    "    \"Min sequence length\": min(lengths.keys()),\n",
    "    \"Max sequence length\": max(lengths.keys()),\n",
    "    \"Mean sequence length\": np.mean(list(lengths.keys()))\n",
    "}])\n",
    "df"
   ]
  },
  {
   "cell_type": "code",
   "execution_count": 9,
   "id": "1e71ddf2",
   "metadata": {},
   "outputs": [],
   "source": [
    "def collate_fn(batch, pad_value=0):\n",
    "    sequences, labels = zip(*batch)\n",
    "    lengths = torch.tensor([len(seq) for seq in sequences])\n",
    "\n",
    "    padded_seqs = pad_sequence(sequences, batch_first=True, padding_value=pad_value)\n",
    "    labels = torch.tensor(labels)\n",
    "\n",
    "    return padded_seqs, lengths, labels"
   ]
  },
  {
   "cell_type": "code",
   "execution_count": 6,
   "id": "848c4227",
   "metadata": {},
   "outputs": [],
   "source": [
    "train_data, val_data = train_test_split(train_data, test_size=0.15, random_state=42)"
   ]
  },
  {
   "cell_type": "code",
   "execution_count": 7,
   "id": "d5dec136",
   "metadata": {},
   "outputs": [],
   "source": [
    "class SequenceDataset(Dataset):\n",
    "    def __init__(self, data):\n",
    "        self.data = data  \n",
    "\n",
    "    def __len__(self):\n",
    "        return len(self.data)\n",
    "\n",
    "    def __getitem__(self, idx):\n",
    "        sequence, label = self.data[idx]\n",
    "        return torch.tensor(sequence), torch.tensor(label)"
   ]
  },
  {
   "cell_type": "code",
   "execution_count": null,
   "id": "155d137f",
   "metadata": {},
   "outputs": [],
   "source": [
    "batch_size = 32\n",
    "train_dataset = SequenceDataset(train_data)\n",
    "val_dataset = SequenceDataset(val_data)\n",
    "train_loader = DataLoader(train_dataset, batch_size=batch_size, shuffle=True, collate_fn=collate_fn)\n",
    "val_loader = DataLoader(val_dataset, batch_size=batch_size, shuffle=False, collate_fn=collate_fn)"
   ]
  },
  {
   "cell_type": "code",
   "execution_count": null,
   "id": "c6aa83a3",
   "metadata": {},
   "outputs": [],
   "source": [
    "class LSTMClassifier(nn.Module):\n",
    "    def __init__(self, input_size, hidden_size, output_size, num_layers=1):\n",
    "        super().__init__()\n",
    "        self.lstm = nn.LSTM(input_size, hidden_size, num_layers, batch_first=True)\n",
    "        self.fc = nn.Linear(hidden_size, output_size)\n",
    "\n",
    "    def forward(self, x, lengths):\n",
    "        packed_input = pack_padded_sequence(x, lengths.cpu(), batch_first=True, enforce_sorted=False)\n",
    "        packed_output, (hidden, cell) = self.lstm(packed_input)\n",
    "        output = self.fc(hidden[-1])\n",
    "        return output"
   ]
  },
  {
   "cell_type": "code",
   "execution_count": null,
   "id": "e4366429",
   "metadata": {},
   "outputs": [],
   "source": [
    "def train_model(model, dataloader, device=\"cpu\", epochs=5, lr=1e-3):\n",
    "    model.to(device).train()\n",
    "    optimizer = torch.optim.Adam(model.parameters(), lr=lr)\n",
    "    criterion = nn.CrossEntropyLoss()\n",
    "\n",
    "    for epoch in range(epochs):\n",
    "        total_loss = 0\n",
    "\n",
    "        for x, lengths, y in dataloader:\n",
    "            x, lengths, y = x.to(device), lengths.to(device), y.to(device)\n",
    "\n",
    "            optimizer.zero_grad()\n",
    "            output = model(x, lengths)\n",
    "\n",
    "            loss = criterion(output, y)\n",
    "            loss.backward()\n",
    "            optimizer.step()\n",
    "\n",
    "            total_loss += loss.item()\n",
    "\n",
    "        print(f\"Epoch {epoch+1}: Loss = {total_loss / len(dataloader):.4f}\")"
   ]
  }
 ],
 "metadata": {
  "kernelspec": {
   "display_name": "ssne",
   "language": "python",
   "name": "python3"
  },
  "language_info": {
   "codemirror_mode": {
    "name": "ipython",
    "version": 3
   },
   "file_extension": ".py",
   "mimetype": "text/x-python",
   "name": "python",
   "nbconvert_exporter": "python",
   "pygments_lexer": "ipython3",
   "version": "3.13.2"
  }
 },
 "nbformat": 4,
 "nbformat_minor": 5
}
