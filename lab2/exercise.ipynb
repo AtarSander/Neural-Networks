{
 "cells": [
  {
   "cell_type": "code",
   "execution_count": 34,
   "metadata": {},
   "outputs": [],
   "source": [
    "import pandas as pd\n",
    "import torch.nn as nn\n",
    "import matplotlib.pyplot as plt\n",
    "from sklearn.model_selection import train_test_split\n",
    "from sklearn.metrics import f1_score, classification_report, recall_score, roc_auc_score\n",
    "from sklearn.pipeline import Pipeline\n",
    "from sklearn.compose import ColumnTransformer\n",
    "from sklearn.preprocessing import OneHotEncoder, MinMaxScaler, OrdinalEncoder"
   ]
  },
  {
   "cell_type": "markdown",
   "metadata": {},
   "source": [
    "# Data preprocessing\n",
    "## Assign labels"
   ]
  },
  {
   "cell_type": "code",
   "execution_count": 27,
   "metadata": {},
   "outputs": [
    {
     "data": {
      "text/html": [
       "<div>\n",
       "<style scoped>\n",
       "    .dataframe tbody tr th:only-of-type {\n",
       "        vertical-align: middle;\n",
       "    }\n",
       "\n",
       "    .dataframe tbody tr th {\n",
       "        vertical-align: top;\n",
       "    }\n",
       "\n",
       "    .dataframe thead th {\n",
       "        text-align: right;\n",
       "    }\n",
       "</style>\n",
       "<table border=\"1\" class=\"dataframe\">\n",
       "  <thead>\n",
       "    <tr style=\"text-align: right;\">\n",
       "      <th></th>\n",
       "      <th>SalePrice</th>\n",
       "      <th>YearBuilt</th>\n",
       "      <th>Size(sqf)</th>\n",
       "      <th>Floor</th>\n",
       "      <th>HallwayType</th>\n",
       "      <th>HeatingType</th>\n",
       "      <th>AptManageType</th>\n",
       "      <th>N_Parkinglot(Ground)</th>\n",
       "      <th>N_Parkinglot(Basement)</th>\n",
       "      <th>TimeToBusStop</th>\n",
       "      <th>TimeToSubway</th>\n",
       "      <th>N_manager</th>\n",
       "      <th>N_elevators</th>\n",
       "      <th>SubwayStation</th>\n",
       "      <th>N_FacilitiesInApt</th>\n",
       "      <th>N_FacilitiesNearBy(Total)</th>\n",
       "      <th>N_SchoolNearBy(Total)</th>\n",
       "    </tr>\n",
       "  </thead>\n",
       "  <tbody>\n",
       "    <tr>\n",
       "      <th>0</th>\n",
       "      <td>141592</td>\n",
       "      <td>2006</td>\n",
       "      <td>814</td>\n",
       "      <td>3</td>\n",
       "      <td>terraced</td>\n",
       "      <td>individual_heating</td>\n",
       "      <td>management_in_trust</td>\n",
       "      <td>111.0</td>\n",
       "      <td>184.0</td>\n",
       "      <td>5min~10min</td>\n",
       "      <td>10min~15min</td>\n",
       "      <td>3.0</td>\n",
       "      <td>0.0</td>\n",
       "      <td>Kyungbuk_uni_hospital</td>\n",
       "      <td>5</td>\n",
       "      <td>6.0</td>\n",
       "      <td>9.0</td>\n",
       "    </tr>\n",
       "    <tr>\n",
       "      <th>1</th>\n",
       "      <td>51327</td>\n",
       "      <td>1985</td>\n",
       "      <td>587</td>\n",
       "      <td>8</td>\n",
       "      <td>corridor</td>\n",
       "      <td>individual_heating</td>\n",
       "      <td>self_management</td>\n",
       "      <td>80.0</td>\n",
       "      <td>76.0</td>\n",
       "      <td>0~5min</td>\n",
       "      <td>5min~10min</td>\n",
       "      <td>2.0</td>\n",
       "      <td>2.0</td>\n",
       "      <td>Daegu</td>\n",
       "      <td>3</td>\n",
       "      <td>12.0</td>\n",
       "      <td>4.0</td>\n",
       "    </tr>\n",
       "    <tr>\n",
       "      <th>2</th>\n",
       "      <td>48672</td>\n",
       "      <td>1985</td>\n",
       "      <td>587</td>\n",
       "      <td>6</td>\n",
       "      <td>corridor</td>\n",
       "      <td>individual_heating</td>\n",
       "      <td>self_management</td>\n",
       "      <td>80.0</td>\n",
       "      <td>76.0</td>\n",
       "      <td>0~5min</td>\n",
       "      <td>5min~10min</td>\n",
       "      <td>2.0</td>\n",
       "      <td>2.0</td>\n",
       "      <td>Daegu</td>\n",
       "      <td>3</td>\n",
       "      <td>12.0</td>\n",
       "      <td>4.0</td>\n",
       "    </tr>\n",
       "    <tr>\n",
       "      <th>3</th>\n",
       "      <td>380530</td>\n",
       "      <td>2006</td>\n",
       "      <td>2056</td>\n",
       "      <td>8</td>\n",
       "      <td>terraced</td>\n",
       "      <td>individual_heating</td>\n",
       "      <td>management_in_trust</td>\n",
       "      <td>249.0</td>\n",
       "      <td>536.0</td>\n",
       "      <td>0~5min</td>\n",
       "      <td>0-5min</td>\n",
       "      <td>5.0</td>\n",
       "      <td>11.0</td>\n",
       "      <td>Sin-nam</td>\n",
       "      <td>5</td>\n",
       "      <td>3.0</td>\n",
       "      <td>7.0</td>\n",
       "    </tr>\n",
       "    <tr>\n",
       "      <th>4</th>\n",
       "      <td>78318</td>\n",
       "      <td>1992</td>\n",
       "      <td>644</td>\n",
       "      <td>2</td>\n",
       "      <td>mixed</td>\n",
       "      <td>individual_heating</td>\n",
       "      <td>self_management</td>\n",
       "      <td>142.0</td>\n",
       "      <td>79.0</td>\n",
       "      <td>5min~10min</td>\n",
       "      <td>15min~20min</td>\n",
       "      <td>4.0</td>\n",
       "      <td>8.0</td>\n",
       "      <td>Myung-duk</td>\n",
       "      <td>3</td>\n",
       "      <td>9.0</td>\n",
       "      <td>14.0</td>\n",
       "    </tr>\n",
       "  </tbody>\n",
       "</table>\n",
       "</div>"
      ],
      "text/plain": [
       "   SalePrice  YearBuilt  Size(sqf)  Floor HallwayType         HeatingType  \\\n",
       "0     141592       2006        814      3    terraced  individual_heating   \n",
       "1      51327       1985        587      8    corridor  individual_heating   \n",
       "2      48672       1985        587      6    corridor  individual_heating   \n",
       "3     380530       2006       2056      8    terraced  individual_heating   \n",
       "4      78318       1992        644      2       mixed  individual_heating   \n",
       "\n",
       "         AptManageType  N_Parkinglot(Ground)  N_Parkinglot(Basement)  \\\n",
       "0  management_in_trust                 111.0                   184.0   \n",
       "1      self_management                  80.0                    76.0   \n",
       "2      self_management                  80.0                    76.0   \n",
       "3  management_in_trust                 249.0                   536.0   \n",
       "4      self_management                 142.0                    79.0   \n",
       "\n",
       "  TimeToBusStop TimeToSubway  N_manager  N_elevators          SubwayStation  \\\n",
       "0    5min~10min  10min~15min        3.0          0.0  Kyungbuk_uni_hospital   \n",
       "1        0~5min   5min~10min        2.0          2.0                  Daegu   \n",
       "2        0~5min   5min~10min        2.0          2.0                  Daegu   \n",
       "3        0~5min       0-5min        5.0         11.0                Sin-nam   \n",
       "4    5min~10min  15min~20min        4.0          8.0              Myung-duk   \n",
       "\n",
       "   N_FacilitiesInApt  N_FacilitiesNearBy(Total)  N_SchoolNearBy(Total)  \n",
       "0                  5                        6.0                    9.0  \n",
       "1                  3                       12.0                    4.0  \n",
       "2                  3                       12.0                    4.0  \n",
       "3                  5                        3.0                    7.0  \n",
       "4                  3                        9.0                   14.0  "
      ]
     },
     "execution_count": 27,
     "metadata": {},
     "output_type": "execute_result"
    }
   ],
   "source": [
    "df = pd.read_csv(\"train_data.csv\")\n",
    "df.head()"
   ]
  },
  {
   "cell_type": "code",
   "execution_count": 28,
   "metadata": {},
   "outputs": [],
   "source": [
    "def classify(x):\n",
    "    if x <= 100000:\n",
    "        return 0\n",
    "    if x <= 350000:\n",
    "        return 1\n",
    "    return 2"
   ]
  },
  {
   "cell_type": "code",
   "execution_count": 29,
   "metadata": {},
   "outputs": [
    {
     "data": {
      "text/html": [
       "<div>\n",
       "<style scoped>\n",
       "    .dataframe tbody tr th:only-of-type {\n",
       "        vertical-align: middle;\n",
       "    }\n",
       "\n",
       "    .dataframe tbody tr th {\n",
       "        vertical-align: top;\n",
       "    }\n",
       "\n",
       "    .dataframe thead th {\n",
       "        text-align: right;\n",
       "    }\n",
       "</style>\n",
       "<table border=\"1\" class=\"dataframe\">\n",
       "  <thead>\n",
       "    <tr style=\"text-align: right;\">\n",
       "      <th></th>\n",
       "      <th>YearBuilt</th>\n",
       "      <th>Size(sqf)</th>\n",
       "      <th>Floor</th>\n",
       "      <th>HallwayType</th>\n",
       "      <th>HeatingType</th>\n",
       "      <th>AptManageType</th>\n",
       "      <th>N_Parkinglot(Ground)</th>\n",
       "      <th>N_Parkinglot(Basement)</th>\n",
       "      <th>TimeToBusStop</th>\n",
       "      <th>TimeToSubway</th>\n",
       "      <th>N_manager</th>\n",
       "      <th>N_elevators</th>\n",
       "      <th>SubwayStation</th>\n",
       "      <th>N_FacilitiesInApt</th>\n",
       "      <th>N_FacilitiesNearBy(Total)</th>\n",
       "      <th>N_SchoolNearBy(Total)</th>\n",
       "      <th>Label</th>\n",
       "    </tr>\n",
       "  </thead>\n",
       "  <tbody>\n",
       "    <tr>\n",
       "      <th>0</th>\n",
       "      <td>2006</td>\n",
       "      <td>814</td>\n",
       "      <td>3</td>\n",
       "      <td>terraced</td>\n",
       "      <td>individual_heating</td>\n",
       "      <td>management_in_trust</td>\n",
       "      <td>111.0</td>\n",
       "      <td>184.0</td>\n",
       "      <td>5min~10min</td>\n",
       "      <td>10min~15min</td>\n",
       "      <td>3.0</td>\n",
       "      <td>0.0</td>\n",
       "      <td>Kyungbuk_uni_hospital</td>\n",
       "      <td>5</td>\n",
       "      <td>6.0</td>\n",
       "      <td>9.0</td>\n",
       "      <td>1</td>\n",
       "    </tr>\n",
       "    <tr>\n",
       "      <th>1</th>\n",
       "      <td>1985</td>\n",
       "      <td>587</td>\n",
       "      <td>8</td>\n",
       "      <td>corridor</td>\n",
       "      <td>individual_heating</td>\n",
       "      <td>self_management</td>\n",
       "      <td>80.0</td>\n",
       "      <td>76.0</td>\n",
       "      <td>0~5min</td>\n",
       "      <td>5min~10min</td>\n",
       "      <td>2.0</td>\n",
       "      <td>2.0</td>\n",
       "      <td>Daegu</td>\n",
       "      <td>3</td>\n",
       "      <td>12.0</td>\n",
       "      <td>4.0</td>\n",
       "      <td>0</td>\n",
       "    </tr>\n",
       "    <tr>\n",
       "      <th>2</th>\n",
       "      <td>1985</td>\n",
       "      <td>587</td>\n",
       "      <td>6</td>\n",
       "      <td>corridor</td>\n",
       "      <td>individual_heating</td>\n",
       "      <td>self_management</td>\n",
       "      <td>80.0</td>\n",
       "      <td>76.0</td>\n",
       "      <td>0~5min</td>\n",
       "      <td>5min~10min</td>\n",
       "      <td>2.0</td>\n",
       "      <td>2.0</td>\n",
       "      <td>Daegu</td>\n",
       "      <td>3</td>\n",
       "      <td>12.0</td>\n",
       "      <td>4.0</td>\n",
       "      <td>0</td>\n",
       "    </tr>\n",
       "    <tr>\n",
       "      <th>3</th>\n",
       "      <td>2006</td>\n",
       "      <td>2056</td>\n",
       "      <td>8</td>\n",
       "      <td>terraced</td>\n",
       "      <td>individual_heating</td>\n",
       "      <td>management_in_trust</td>\n",
       "      <td>249.0</td>\n",
       "      <td>536.0</td>\n",
       "      <td>0~5min</td>\n",
       "      <td>0-5min</td>\n",
       "      <td>5.0</td>\n",
       "      <td>11.0</td>\n",
       "      <td>Sin-nam</td>\n",
       "      <td>5</td>\n",
       "      <td>3.0</td>\n",
       "      <td>7.0</td>\n",
       "      <td>2</td>\n",
       "    </tr>\n",
       "    <tr>\n",
       "      <th>4</th>\n",
       "      <td>1992</td>\n",
       "      <td>644</td>\n",
       "      <td>2</td>\n",
       "      <td>mixed</td>\n",
       "      <td>individual_heating</td>\n",
       "      <td>self_management</td>\n",
       "      <td>142.0</td>\n",
       "      <td>79.0</td>\n",
       "      <td>5min~10min</td>\n",
       "      <td>15min~20min</td>\n",
       "      <td>4.0</td>\n",
       "      <td>8.0</td>\n",
       "      <td>Myung-duk</td>\n",
       "      <td>3</td>\n",
       "      <td>9.0</td>\n",
       "      <td>14.0</td>\n",
       "      <td>0</td>\n",
       "    </tr>\n",
       "  </tbody>\n",
       "</table>\n",
       "</div>"
      ],
      "text/plain": [
       "   YearBuilt  Size(sqf)  Floor HallwayType         HeatingType  \\\n",
       "0       2006        814      3    terraced  individual_heating   \n",
       "1       1985        587      8    corridor  individual_heating   \n",
       "2       1985        587      6    corridor  individual_heating   \n",
       "3       2006       2056      8    terraced  individual_heating   \n",
       "4       1992        644      2       mixed  individual_heating   \n",
       "\n",
       "         AptManageType  N_Parkinglot(Ground)  N_Parkinglot(Basement)  \\\n",
       "0  management_in_trust                 111.0                   184.0   \n",
       "1      self_management                  80.0                    76.0   \n",
       "2      self_management                  80.0                    76.0   \n",
       "3  management_in_trust                 249.0                   536.0   \n",
       "4      self_management                 142.0                    79.0   \n",
       "\n",
       "  TimeToBusStop TimeToSubway  N_manager  N_elevators          SubwayStation  \\\n",
       "0    5min~10min  10min~15min        3.0          0.0  Kyungbuk_uni_hospital   \n",
       "1        0~5min   5min~10min        2.0          2.0                  Daegu   \n",
       "2        0~5min   5min~10min        2.0          2.0                  Daegu   \n",
       "3        0~5min       0-5min        5.0         11.0                Sin-nam   \n",
       "4    5min~10min  15min~20min        4.0          8.0              Myung-duk   \n",
       "\n",
       "   N_FacilitiesInApt  N_FacilitiesNearBy(Total)  N_SchoolNearBy(Total)  Label  \n",
       "0                  5                        6.0                    9.0      1  \n",
       "1                  3                       12.0                    4.0      0  \n",
       "2                  3                       12.0                    4.0      0  \n",
       "3                  5                        3.0                    7.0      2  \n",
       "4                  3                        9.0                   14.0      0  "
      ]
     },
     "execution_count": 29,
     "metadata": {},
     "output_type": "execute_result"
    }
   ],
   "source": [
    "df[\"Label\"] = df[\"SalePrice\"].apply(classify)\n",
    "df = df.drop(columns=[\"SalePrice\"])\n",
    "df.head()"
   ]
  },
  {
   "cell_type": "markdown",
   "metadata": {},
   "source": [
    "## Check for missing values"
   ]
  },
  {
   "cell_type": "code",
   "execution_count": 30,
   "metadata": {},
   "outputs": [],
   "source": [
    "def missing(df, columns):\n",
    "    return {column: df[column].isnull().sum() for column in columns if df[column].isnull().sum() > 0}"
   ]
  },
  {
   "cell_type": "code",
   "execution_count": 31,
   "metadata": {},
   "outputs": [
    {
     "data": {
      "text/plain": [
       "{}"
      ]
     },
     "execution_count": 31,
     "metadata": {},
     "output_type": "execute_result"
    }
   ],
   "source": [
    "missing(df, df.columns)"
   ]
  },
  {
   "cell_type": "markdown",
   "metadata": {},
   "source": [
    "# Categorical data"
   ]
  },
  {
   "cell_type": "code",
   "execution_count": 32,
   "metadata": {},
   "outputs": [],
   "source": [
    "numeric_columns = df._get_numeric_data().columns\n",
    "categorical_columns = list(set(df.columns) - set(numeric_columns))"
   ]
  },
  {
   "cell_type": "code",
   "execution_count": 8,
   "metadata": {},
   "outputs": [],
   "source": [
    "def unique(df, columns):\n",
    "    return {column: df[column].nunique() for column in columns}"
   ]
  },
  {
   "cell_type": "code",
   "execution_count": 9,
   "metadata": {},
   "outputs": [],
   "source": [
    "categorical_unique = unique(df, categorical_columns)"
   ]
  },
  {
   "cell_type": "code",
   "execution_count": 10,
   "metadata": {},
   "outputs": [],
   "source": [
    "numeric_unique = unique(df, numeric_columns)"
   ]
  },
  {
   "cell_type": "code",
   "execution_count": 19,
   "metadata": {},
   "outputs": [],
   "source": [
    "def plot_bar(values, title):\n",
    "    plt.figure(figsize=(2*len(values),4))\n",
    "    plt.bar(*zip(*values.items()))\n",
    "    plt.title(title)\n",
    "    plt.show()"
   ]
  },
  {
   "cell_type": "code",
   "execution_count": 20,
   "metadata": {},
   "outputs": [
    {
     "data": {
      "image/png": "[encoded data removed]",
      "text/plain": [
       "<Figure size 1200x400 with 1 Axes>"
      ]
     },
     "metadata": {},
     "output_type": "display_data"
    }
   ],
   "source": [
    "plot_bar(categorical_unique, \"Unique values of categorical columns\")"
   ]
  },
  {
   "cell_type": "code",
   "execution_count": 23,
   "metadata": {},
   "outputs": [],
   "source": [
    "counts_by_label = dict(df[\"Label\"].value_counts())\n",
    "label_assignment = {0: \"cheap (0)\", 1:\"average (1)\", 2:\"expensive (2)\"}\n",
    "counts_by_label = {label_assignment[key]: val for key, val in counts_by_label.items()}"
   ]
  },
  {
   "cell_type": "code",
   "execution_count": 26,
   "metadata": {},
   "outputs": [],
   "source": [
    "ordinal_columns = [\"TimeToBusStop\", \"TimeToSubway\"]\n",
    "nominal_columns = list(set(categorical_columns) - set(ordinal_columns))"
   ]
  },
  {
   "cell_type": "markdown",
   "metadata": {},
   "source": [
    "## TODO: Check for outliers \n",
    "## TODO: Analyze if some features have normal distribution"
   ]
  },
  {
   "cell_type": "markdown",
   "metadata": {},
   "source": [
    "## Analyzing the data imbalance"
   ]
  },
  {
   "cell_type": "code",
   "execution_count": 24,
   "metadata": {},
   "outputs": [
    {
     "data": {
      "image/png": "[encoded data removed]",
      "text/plain": [
       "<Figure size 600x400 with 1 Axes>"
      ]
     },
     "metadata": {},
     "output_type": "display_data"
    }
   ],
   "source": [
    "plot_bar(counts_by_label, \"Labels frequency\")"
   ]
  },
  {
   "cell_type": "code",
   "execution_count": 37,
   "metadata": {},
   "outputs": [],
   "source": [
    "def preprocess(df, numeric_columns, ordinal_columns, nominal_columns):\n",
    "    preprocessor = ColumnTransformer(transformers=[\n",
    "        (\"nominal\", OneHotEncoder(handle_unknown=\"ignore\"), nominal_columns),\n",
    "        (\"numeric_scaler\", MinMaxScaler(), numeric_columns),\n",
    "        (\"ordinal\", OrdinalEncoder(), ordinal_columns)\n",
    "        ], remainder=\"passthrough\")\n",
    "    pipeline = Pipeline(steps=[\n",
    "        (\"preprocessing\", preprocessor),\n",
    "    ])\n",
    "    pipeline.fit(df)\n",
    "    return pipeline.transform(df)\n",
    "#TODO check if ordinal encoding does ordering right"
   ]
  },
  {
   "cell_type": "code",
   "execution_count": 38,
   "metadata": {},
   "outputs": [],
   "source": [
    "a = preprocess(df, numeric_columns, ordinal_columns, nominal_columns)"
   ]
  },
  {
   "cell_type": "markdown",
   "metadata": {},
   "source": [
    "# Model and training"
   ]
  },
  {
   "cell_type": "code",
   "execution_count": null,
   "metadata": {},
   "outputs": [],
   "source": [
    "class Model(nn.Module):\n",
    "    def __init__(self):\n",
    "        super().__init__()\n",
    "        self.fc1 = nn.Linear()\n"
   ]
  }
 ],
 "metadata": {
  "kernelspec": {
   "display_name": "SSNE",
   "language": "python",
   "name": "python3"
  },
  "language_info": {
   "codemirror_mode": {
    "name": "ipython",
    "version": 3
   },
   "file_extension": ".py",
   "mimetype": "text/x-python",
   "name": "python",
   "nbconvert_exporter": "python",
   "pygments_lexer": "ipython3",
   "version": "3.13.2"
  }
 },
 "nbformat": 4,
 "nbformat_minor": 2
}
