{
 "cells": [
  {
   "cell_type": "code",
   "execution_count": 1,
   "metadata": {},
   "outputs": [],
   "source": [
    "import pandas as pd\n",
    "import os\n",
    "from sklearn.model_selection import train_test_split\n",
    "import matplotlib.pyplot as plt\n",
    "import torch\n",
    "import torchvision\n",
    "from torchvision import io\n",
    "from torch.utils.data import Dataset, DataLoader\n",
    "from torch import nn\n",
    "pd.set_option(\"display.max_columns\", 101)\n",
    "pd.set_option('display.max_colwidth', 100)"
   ]
  },
  {
   "cell_type": "code",
   "execution_count": 2,
   "metadata": {},
   "outputs": [
    {
     "data": {
      "text/html": [
       "<div>\n",
       "<style scoped>\n",
       "    .dataframe tbody tr th:only-of-type {\n",
       "        vertical-align: middle;\n",
       "    }\n",
       "\n",
       "    .dataframe tbody tr th {\n",
       "        vertical-align: top;\n",
       "    }\n",
       "\n",
       "    .dataframe thead th {\n",
       "        text-align: right;\n",
       "    }\n",
       "</style>\n",
       "<table border=\"1\" class=\"dataframe\">\n",
       "  <thead>\n",
       "    <tr style=\"text-align: right;\">\n",
       "      <th></th>\n",
       "      <th>path</th>\n",
       "      <th>label</th>\n",
       "    </tr>\n",
       "  </thead>\n",
       "  <tbody>\n",
       "    <tr>\n",
       "      <th>0</th>\n",
       "      <td>train/0.jpg</td>\n",
       "      <td>1</td>\n",
       "    </tr>\n",
       "    <tr>\n",
       "      <th>1</th>\n",
       "      <td>train/1.jpg</td>\n",
       "      <td>1</td>\n",
       "    </tr>\n",
       "    <tr>\n",
       "      <th>2</th>\n",
       "      <td>train/2.jpg</td>\n",
       "      <td>0</td>\n",
       "    </tr>\n",
       "    <tr>\n",
       "      <th>3</th>\n",
       "      <td>train/3.jpg</td>\n",
       "      <td>0</td>\n",
       "    </tr>\n",
       "    <tr>\n",
       "      <th>4</th>\n",
       "      <td>train/4.jpg</td>\n",
       "      <td>0</td>\n",
       "    </tr>\n",
       "  </tbody>\n",
       "</table>\n",
       "</div>"
      ],
      "text/plain": [
       "          path  label\n",
       "0  train/0.jpg      1\n",
       "1  train/1.jpg      1\n",
       "2  train/2.jpg      0\n",
       "3  train/3.jpg      0\n",
       "4  train/4.jpg      0"
      ]
     },
     "execution_count": 2,
     "metadata": {},
     "output_type": "execute_result"
    }
   ],
   "source": [
    "data = pd.read_csv('train.csv')\n",
    "data.head()"
   ]
  },
  {
   "cell_type": "code",
   "execution_count": 3,
   "metadata": {},
   "outputs": [],
   "source": [
    "data_train, data_val = train_test_split(data, test_size=0.2, random_state=42)\n",
    "data_train = data_train.reset_index(drop=True)\n",
    "data_val = data_val.reset_index(drop=True)"
   ]
  },
  {
   "cell_type": "code",
   "execution_count": 4,
   "metadata": {},
   "outputs": [],
   "source": [
    "data_test = pd.read_csv('test.csv')"
   ]
  },
  {
   "cell_type": "code",
   "execution_count": 133,
   "metadata": {},
   "outputs": [],
   "source": [
    "class TrafficSignsDataset(Dataset):\n",
    "    def __init__(self, annotations_file, transforms, image_dir):\n",
    "        self.transforms = transforms\n",
    "        self.image_labels = annotations_file\n",
    "        self.img_dir = image_dir\n",
    "\n",
    "    def __len__(self):\n",
    "        return len(self.image_labels)\n",
    "\n",
    "    def __getitem__(self, idx):\n",
    "        img_path = os.path.join(self.img_dir, self.image_labels.iloc[idx, 0])\n",
    "        image = io.read_image(img_path).float() / 255.0\n",
    "        label = self.image_labels.iloc[idx, 1]\n",
    "        if self.transforms:\n",
    "            image = self.transforms(image)\n",
    "        return image, label\n"
   ]
  },
  {
   "cell_type": "code",
   "execution_count": 134,
   "metadata": {},
   "outputs": [],
   "source": [
    "train_transforms = torchvision.transforms.Compose(\n",
    "    [\n",
    "        torchvision.transforms.Resize((32,32)),\n",
    "        # torchvision.transforms.RandomRotation(30),\n",
    "        # torchvision.transforms.ColorJitter(brightness=0.2, contrast=0.2, saturation=0.2, hue=0.1),\n",
    "        torchvision.transforms.Normalize(mean=[0.485, 0.456, 0.406], std=[0.229, 0.224, 0.225]),\n",
    "    ]\n",
    ")\n",
    "\n",
    "test_transforms = torchvision.transforms.Compose(\n",
    "    [\n",
    "        torchvision.transforms.Resize((32,32)),\n",
    "        torchvision.transforms.Normalize(mean=[0.485, 0.456, 0.406], std=[0.229, 0.224, 0.225]),\n",
    "    ]\n",
    ")\n"
   ]
  },
  {
   "cell_type": "code",
   "execution_count": 135,
   "metadata": {},
   "outputs": [],
   "source": [
    "dataset_train = TrafficSignsDataset(data_train, train_transforms, os.getcwd())\n",
    "dataset_validate = TrafficSignsDataset(data_val, train_transforms, os.getcwd())\n",
    "dataset_test = TrafficSignsDataset(data_test, test_transforms, os.getcwd())"
   ]
  },
  {
   "cell_type": "code",
   "execution_count": 136,
   "metadata": {},
   "outputs": [],
   "source": [
    "def plot_image(dataset, indice):\n",
    "    image_tensor, label = dataset[indice]\n",
    "    mean = torch.tensor([0.485, 0.456, 0.406]).view(3, 1, 1)\n",
    "    std = torch.tensor([0.229, 0.224, 0.225]).view(3, 1, 1)\n",
    "    image_denorm = image_tensor * std + mean\n",
    "    image_denorm = torch.clamp(image_denorm, 0, 1)\n",
    "    image_np = image_denorm.permute(1, 2, 0).numpy()\n",
    "    plt.xlabel(label)\n",
    "    plt.imshow(image_np)"
   ]
  },
  {
   "cell_type": "code",
   "execution_count": 137,
   "metadata": {},
   "outputs": [
    {
     "data": {
      "image/png": "[encoded data removed]",
      "text/plain": [
       "<Figure size 640x480 with 1 Axes>"
      ]
     },
     "metadata": {},
     "output_type": "display_data"
    }
   ],
   "source": [
    "plot_image(dataset_train, 11)"
   ]
  },
  {
   "cell_type": "code",
   "execution_count": 138,
   "metadata": {},
   "outputs": [],
   "source": [
    "train_loader = DataLoader(dataset_train, 32, shuffle=True)"
   ]
  },
  {
   "cell_type": "code",
   "execution_count": 139,
   "metadata": {},
   "outputs": [],
   "source": [
    "class Model(nn.Module):\n",
    "    def __init__(self, device):\n",
    "        super(Model, self).__init__()\n",
    "        self.conv1 = nn.Conv2d(in_channels=3, out_channels=32, kernel_size=3, padding=1)\n",
    "        self.bn1 = nn.BatchNorm2d(32)\n",
    "        self.act1 = nn.LeakyReLU()\n",
    "\n",
    "        self.conv2 = nn.Conv2d(in_channels=32, out_channels=64, kernel_size=3,padding=1)\n",
    "        self.bn2 = nn.BatchNorm2d(64)\n",
    "        self.act2 = nn.LeakyReLU()\n",
    "\n",
    "        self.conv3 = nn.Conv2d(in_channels=64, out_channels=128, kernel_size=3,padding=1)\n",
    "        self.bn3 = nn.BatchNorm2d(128)\n",
    "        self.act3 = nn.LeakyReLU()\n",
    "\n",
    "        self.pool = nn.MaxPool2d(kernel_size=2)\n",
    "        self.flatten = nn.Flatten(start_dim=1)\n",
    "        self.fn1 = nn.Linear(128*4*4, 512)\n",
    "        self.act4 = nn.LeakyReLU()\n",
    "        self.fn2 = nn.Linear(512,3)\n",
    "\n",
    "        if device.type == \"cuda\":\n",
    "            self.cuda()\n",
    "\n",
    "    def forward(self, x):\n",
    "        x = self.pool(self.act1(self.bn1(self.conv1(x))))\n",
    "        x = self.pool(self.act2(self.bn2(self.conv2(x))))\n",
    "        x = self.pool(self.act3(self.bn3(self.conv3(x))))\n",
    "        x = self.act4(self.fn1(self.flatten(x)))\n",
    "        x = self.fn2(x)\n",
    "        return x\n"
   ]
  },
  {
   "cell_type": "code",
   "execution_count": 140,
   "metadata": {},
   "outputs": [],
   "source": [
    "device = torch.device(\"cuda\" if torch.cuda.is_available() else \"cpu\")\n",
    "model = Model(device)"
   ]
  },
  {
   "cell_type": "code",
   "execution_count": 141,
   "metadata": {},
   "outputs": [],
   "source": [
    "def train(epochs, model, data, device, lr=3e-4):\n",
    "    optimizer = torch.optim.Adam(model.parameters(), lr=lr)\n",
    "    criterion = nn.CrossEntropyLoss()\n",
    "    for epoch in range(epochs):\n",
    "        for image, label in data:\n",
    "            image, label = image.to(device), label.to(device)\n",
    "            optimizer.zero_grad()\n",
    "            outputs = model(image)\n",
    "            loss = criterion(outputs, label)\n",
    "            loss.backward()\n",
    "            optimizer.step()\n",
    "        print(f\"Epoch: {epoch}, loss: {loss}\")\n"
   ]
  },
  {
   "cell_type": "code",
   "execution_count": 142,
   "metadata": {},
   "outputs": [
    {
     "name": "stdout",
     "output_type": "stream",
     "text": [
      "Epoch: 0, loss: 0.049630556255578995\n",
      "Epoch: 1, loss: 0.005187375005334616\n",
      "Epoch: 2, loss: 0.00022348678612615913\n",
      "Epoch: 3, loss: 0.0001394866849295795\n",
      "Epoch: 4, loss: 0.0002552198711782694\n",
      "Epoch: 5, loss: 0.007959705777466297\n",
      "Epoch: 6, loss: 1.9868208767093165e-07\n",
      "Epoch: 7, loss: 0.0005050649051554501\n",
      "Epoch: 8, loss: 3.95751376345288e-05\n",
      "Epoch: 9, loss: 1.3510358485291363e-06\n"
     ]
    }
   ],
   "source": [
    "train(10, model, train_loader, device)"
   ]
  },
  {
   "cell_type": "code",
   "execution_count": null,
   "metadata": {},
   "outputs": [
    {
     "name": "stdout",
     "output_type": "stream",
     "text": [
      "Epoch: 0, loss: 0.14607274532318115\n",
      "Epoch: 1, loss: 0.03921637311577797\n",
      "Epoch: 2, loss: 0.035821788012981415\n",
      "Epoch: 3, loss: 0.01080948393791914\n",
      "Epoch: 4, loss: 0.002860873471945524\n",
      "Epoch: 5, loss: 0.0010215495713055134\n",
      "Epoch: 6, loss: 0.0005006020073778927\n",
      "Epoch: 7, loss: 0.0003149414842482656\n",
      "Epoch: 8, loss: 0.00022859965974930674\n",
      "Epoch: 9, loss: 0.00017608811322133988\n",
      "Epoch: 10, loss: 0.00013908781693316996\n",
      "Epoch: 11, loss: 0.00011414493201300502\n",
      "Epoch: 12, loss: 9.607165702618659e-05\n",
      "Epoch: 13, loss: 8.178207644959912e-05\n",
      "Epoch: 14, loss: 7.076460315147415e-05\n",
      "Epoch: 15, loss: 6.205679528648034e-05\n",
      "Epoch: 16, loss: 5.516421515494585e-05\n",
      "Epoch: 17, loss: 4.9391415814170614e-05\n",
      "Epoch: 18, loss: 4.4835334847448394e-05\n",
      "Epoch: 19, loss: 4.103467654203996e-05\n",
      "Epoch: 20, loss: 3.77736178052146e-05\n",
      "Epoch: 21, loss: 3.4951677662320435e-05\n",
      "Epoch: 22, loss: 3.250563531764783e-05\n",
      "Epoch: 23, loss: 3.039084913325496e-05\n",
      "Epoch: 24, loss: 2.8570135327754542e-05\n",
      "Epoch: 25, loss: 2.6991383492713794e-05\n",
      "Epoch: 26, loss: 2.5576422558515333e-05\n",
      "Epoch: 27, loss: 2.4280570869450457e-05\n",
      "Epoch: 28, loss: 2.3107575543690473e-05\n",
      "Epoch: 29, loss: 2.2031365006114356e-05\n",
      "Epoch: 30, loss: 2.105195562762674e-05\n",
      "Epoch: 31, loss: 2.0150731870671734e-05\n",
      "Epoch: 32, loss: 1.931280166900251e-05\n",
      "Epoch: 33, loss: 1.8526994608691894e-05\n",
      "Epoch: 34, loss: 1.778959449438844e-05\n",
      "Epoch: 35, loss: 1.710804644972086e-05\n",
      "Epoch: 36, loss: 1.6456286175525747e-05\n",
      "Epoch: 37, loss: 1.5849211195018142e-05\n",
      "Epoch: 38, loss: 1.5283096217899583e-05\n",
      "Epoch: 39, loss: 1.4746772649232298e-05\n",
      "Epoch: 40, loss: 1.4243964869820047e-05\n",
      "Epoch: 41, loss: 1.3770951227343176e-05\n",
      "Epoch: 42, loss: 1.3324004612513818e-05\n",
      "Epoch: 43, loss: 1.2910577424918301e-05\n",
      "Epoch: 44, loss: 1.2519494703155942e-05\n",
      "Epoch: 45, loss: 1.2147032975917682e-05\n",
      "Epoch: 46, loss: 1.180064009531634e-05\n",
      "Epoch: 47, loss: 1.1461694157333113e-05\n",
      "Epoch: 48, loss: 1.1141371942358091e-05\n",
      "Epoch: 49, loss: 1.0839670721907169e-05\n",
      "Epoch: 50, loss: 1.0571494385658298e-05\n",
      "Epoch: 51, loss: 1.0303315320925321e-05\n",
      "Epoch: 52, loss: 1.0042583198810462e-05\n",
      "Epoch: 53, loss: 9.807926289795432e-06\n",
      "Epoch: 54, loss: 9.576991033100057e-06\n",
      "Epoch: 55, loss: 9.357231647300068e-06\n",
      "Epoch: 56, loss: 9.141194823314436e-06\n",
      "Epoch: 57, loss: 8.940057341533247e-06\n",
      "Epoch: 58, loss: 8.753819201956503e-06\n",
      "Epoch: 59, loss: 8.560131391277537e-06\n",
      "Epoch: 60, loss: 8.377615813515149e-06\n",
      "Epoch: 61, loss: 8.202549906854983e-06\n",
      "Epoch: 62, loss: 8.03120929049328e-06\n",
      "Epoch: 63, loss: 7.867317435739096e-06\n",
      "Epoch: 64, loss: 7.703424671490211e-06\n",
      "Epoch: 65, loss: 7.546981578343548e-06\n",
      "Epoch: 66, loss: 7.397988156299107e-06\n",
      "Epoch: 67, loss: 7.252719115058426e-06\n",
      "Epoch: 68, loss: 7.118624580471078e-06\n",
      "Epoch: 69, loss: 6.98825442668749e-06\n",
      "Epoch: 70, loss: 6.846708856755868e-06\n",
      "Epoch: 71, loss: 6.727513209625613e-06\n",
      "Epoch: 72, loss: 6.5971416915999725e-06\n",
      "Epoch: 73, loss: 6.485395260824589e-06\n",
      "Epoch: 74, loss: 6.3699244492454454e-06\n",
      "Epoch: 75, loss: 6.254451818676898e-06\n",
      "Epoch: 76, loss: 6.138978733361e-06\n",
      "Epoch: 77, loss: 6.03840680923895e-06\n",
      "Epoch: 78, loss: 5.934108230576385e-06\n",
      "Epoch: 79, loss: 5.8372606872580945e-06\n",
      "Epoch: 80, loss: 5.7329625633428805e-06\n",
      "Epoch: 81, loss: 5.63983940082835e-06\n",
      "Epoch: 82, loss: 5.5467148740717676e-06\n",
      "Epoch: 83, loss: 5.4610413826594595e-06\n",
      "Epoch: 84, loss: 5.375367891247151e-06\n",
      "Epoch: 85, loss: 5.289693035592791e-06\n",
      "Epoch: 86, loss: 5.204018634685781e-06\n",
      "Epoch: 87, loss: 5.133244485477917e-06\n",
      "Epoch: 88, loss: 5.05502021042048e-06\n",
      "Epoch: 89, loss: 4.980520770914154e-06\n",
      "Epoch: 90, loss: 4.8948454605124425e-06\n",
      "Epoch: 91, loss: 4.831520982406801e-06\n",
      "Epoch: 92, loss: 4.760746378451586e-06\n",
      "Epoch: 93, loss: 4.693696155300131e-06\n",
      "Epoch: 94, loss: 4.61174522570218e-06\n",
      "Epoch: 95, loss: 4.552145583147649e-06\n",
      "Epoch: 96, loss: 4.481369614950381e-06\n",
      "Epoch: 97, loss: 4.4180442273500375e-06\n",
      "Epoch: 98, loss: 4.358444130048156e-06\n",
      "Epoch: 99, loss: 4.298844032746274e-06\n"
     ]
    }
   ],
   "source": [
    "def batch_overfit(model, loader, epochs):\n",
    "    optimizer = torch.optim.Adam(model.parameters(), lr=3e-4)\n",
    "    criterion = nn.CrossEntropyLoss()\n",
    "    batch = next(iter(loader))\n",
    "    image, label = batch\n",
    "    prev_loss = 19\n",
    "    for epoch in range(epochs):\n",
    "            image, label = image.to(device), label.to(device)\n",
    "            optimizer.zero_grad()\n",
    "            outputs = model(image)\n",
    "            loss = criterion(outputs, label)\n",
    "            loss.backward()\n",
    "            optimizer.step()\n",
    "            print(f\"Epoch: {epoch}, loss: {loss}\")\n",
    "batch_overfit(model, train_loader, 100)"
   ]
  }
 ],
 "metadata": {
  "kernelspec": {
   "display_name": "autodoppelganger",
   "language": "python",
   "name": "python3"
  },
  "language_info": {
   "codemirror_mode": {
    "name": "ipython",
    "version": 3
   },
   "file_extension": ".py",
   "mimetype": "text/x-python",
   "name": "python",
   "nbconvert_exporter": "python",
   "pygments_lexer": "ipython3",
   "version": "3.10.12"
  }
 },
 "nbformat": 4,
 "nbformat_minor": 2
}
